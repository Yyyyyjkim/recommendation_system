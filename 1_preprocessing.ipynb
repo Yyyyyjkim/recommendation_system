{
 "cells": [
  {
   "cell_type": "code",
   "execution_count": null,
   "metadata": {},
   "outputs": [],
   "source": [
    "import pandas as pd\n",
    "import numpy as np\n",
    "import matplotlib.pyplot as plt\n",
    "import seaborn as sns\n",
    "from datetime import datetime\n",
    "from sklearn.preprocessing import StandardScaler\n",
    "import math"
   ]
  },
  {
   "cell_type": "code",
   "execution_count": null,
   "metadata": {},
   "outputs": [],
   "source": [
    "import warnings\n",
    "warnings.filterwarnings(\"ignore\")"
   ]
  },
  {
   "cell_type": "code",
   "execution_count": null,
   "metadata": {},
   "outputs": [],
   "source": [
    "customer = pd.read_csv('../data/customer.csv',dtype=str)\n",
    "online = pd.read_csv('../data/online_behavior.csv',dtype=str)\n",
    "product = pd.read_csv('../data/product.csv',dtype=str)\n",
    "transaction = pd.read_csv('../data/transaction.csv',dtype=str)"
   ]
  },
  {
   "cell_type": "markdown",
   "metadata": {},
   "source": [
    "# 1.Customer"
   ]
  },
  {
   "cell_type": "code",
   "execution_count": null,
   "metadata": {},
   "outputs": [],
   "source": [
    "customer.groupby('clnt_gender').size()"
   ]
  },
  {
   "cell_type": "code",
   "execution_count": null,
   "metadata": {},
   "outputs": [],
   "source": [
    "plt.bar(index,customer.groupby('clnt_gender').size())\n",
    "plt.xticks(index, label, fontsize=15)\n",
    "plt.show"
   ]
  },
  {
   "cell_type": "code",
   "execution_count": null,
   "metadata": {},
   "outputs": [],
   "source": [
    "customer['clnt_gender'].loc[customer['clnt_gender']=='unknown'] = np.nan\n",
    "customer['clnt_age'].loc[customer['clnt_age']=='unknown'] = np.nan\n",
    "pd.crosstab(customer['clnt_gender'],customer['clnt_age'])"
   ]
  },
  {
   "cell_type": "code",
   "execution_count": null,
   "metadata": {},
   "outputs": [],
   "source": [
    "customer.to_pickle(\"../new_data/data_set/customer.pkl\")"
   ]
  },
  {
   "cell_type": "markdown",
   "metadata": {},
   "source": [
    "# 2. Online "
   ]
  },
  {
   "cell_type": "code",
   "execution_count": null,
   "metadata": {},
   "outputs": [],
   "source": [
    "online.groupby('biz_unit').size()"
   ]
  },
  {
   "cell_type": "code",
   "execution_count": null,
   "metadata": {},
   "outputs": [],
   "source": [
    "online = online.loc[online['tot_pag_view_ct'].isnull()==False]"
   ]
  },
  {
   "cell_type": "code",
   "execution_count": null,
   "metadata": {},
   "outputs": [],
   "source": [
    "online = online.loc[online['tot_sess_hr_v'].isnull()==False]"
   ]
  },
  {
   "cell_type": "code",
   "execution_count": null,
   "metadata": {},
   "outputs": [],
   "source": [
    "online.to_pickle(\"../new_data/data_set/online.pkl\")"
   ]
  },
  {
   "cell_type": "markdown",
   "metadata": {},
   "source": [
    "# 3. Product "
   ]
  },
  {
   "cell_type": "code",
   "execution_count": null,
   "metadata": {},
   "outputs": [],
   "source": [
    "product.loc[product['clac_nm3'].isnull()==True]\n",
    "product['clac_nm3'].loc[product['pd_c']=='196'] = 'Packaged ETC'\n",
    "product['clac_nm3'].loc[product['pd_c']=='524'] = 'Frozen ETC'\n",
    "product.isnull().sum()"
   ]
  },
  {
   "cell_type": "code",
   "execution_count": null,
   "metadata": {},
   "outputs": [],
   "source": [
    "product.to_pickle(\"../new_data/data_set/product.pkl\")"
   ]
  },
  {
   "cell_type": "markdown",
   "metadata": {},
   "source": [
    "# 4. Transaction "
   ]
  },
  {
   "cell_type": "code",
   "execution_count": null,
   "metadata": {},
   "outputs": [],
   "source": [
    "# transform biz unit\n",
    "transaction['biz_unit'].loc[[i[0]=='A' for i in transaction['biz_unit']]] = 'A'\n",
    "transaction['biz_unit'].loc[[i[0]=='B' for i in transaction['biz_unit']]] = 'B'"
   ]
  },
  {
   "cell_type": "code",
   "execution_count": null,
   "metadata": {},
   "outputs": [],
   "source": [
    "# transform de_dt, de_tm\n",
    "def make_hit_time(date, time):\n",
    "    time = date + time\n",
    "    time = datetime.strptime(time, '%Y%m%d%H:%M')\n",
    "    return time\n",
    "\n",
    "make_hit_time = np.vectorize(make_hit_time)\n",
    "transaction['date_time'] = make_hit_time(transaction['de_dt'], transaction['de_tm'])\n",
    "transaction = transaction.drop(['de_dt','de_tm'],axis=1)"
   ]
  },
  {
   "cell_type": "code",
   "execution_count": null,
   "metadata": {},
   "outputs": [],
   "source": [
    "# delete pd_c na\n",
    "transaction['pd_c'].loc[transaction['pd_c']=='unknown'] = np.nan\n",
    "transaction = transaction.dropna(axis=0)"
   ]
  },
  {
   "cell_type": "code",
   "execution_count": null,
   "metadata": {},
   "outputs": [],
   "source": [
    "transaction[['buy_am','buy_ct']] = transaction[['buy_am','buy_ct']].astype(float)\n",
    "transaction = transaction.loc[(transaction['buy_am'] > 0) & (transaction['buy_ct'] > 0)]"
   ]
  },
  {
   "cell_type": "code",
   "execution_count": null,
   "metadata": {},
   "outputs": [],
   "source": [
    "# outlier\n",
    "buy_am = transaction['buy_am'].astype(float)\n",
    "buy_am = sorted(buy_am,reverse=True)\n",
    "list(buy_am)[0:10]"
   ]
  },
  {
   "cell_type": "code",
   "execution_count": null,
   "metadata": {},
   "outputs": [],
   "source": [
    "transaction.loc[transaction['buy_am']==100000016899]\n",
    "product.loc[product['pd_c']=='382']\n",
    "transaction = transaction.drop(19237,0)"
   ]
  },
  {
   "cell_type": "code",
   "execution_count": null,
   "metadata": {},
   "outputs": [],
   "source": [
    "transaction.shape"
   ]
  },
  {
   "cell_type": "code",
   "execution_count": null,
   "metadata": {},
   "outputs": [],
   "source": [
    "transaction.to_pickle(\"../new_data/data_set/transaction.pkl\")"
   ]
  },
  {
   "cell_type": "code",
   "execution_count": null,
   "metadata": {},
   "outputs": [],
   "source": [
    "transaction.head()"
   ]
  },
  {
   "cell_type": "markdown",
   "metadata": {},
   "source": [
    "# Clac data"
   ]
  },
  {
   "cell_type": "markdown",
   "metadata": {},
   "source": [
    "## 1) online "
   ]
  },
  {
   "cell_type": "code",
   "execution_count": null,
   "metadata": {},
   "outputs": [],
   "source": [
    "tran = transaction.loc[transaction['biz_unit']=='A']\n",
    "tran = tran[['clnt_id','pd_c']]\n",
    "tran['pd_c'] = tran['pd_c'].astype(int)\n",
    "clac = product[['pd_c','clac_nm1']]\n",
    "clac['pd_c'] = clac['pd_c'].astype(int)\n",
    "clac = pd.merge(tran,clac,on='pd_c',how='left')\n",
    "clac['count'] = 1\n",
    "clac = pd.pivot_table(clac,index='clnt_id',columns='clac_nm1',values='count',aggfunc=sum)\n",
    "clac = clac.fillna(0)"
   ]
  },
  {
   "cell_type": "code",
   "execution_count": null,
   "metadata": {},
   "outputs": [],
   "source": [
    "clac.to_pickle(\"../new_data/data_set/online_clac.pkl\")"
   ]
  },
  {
   "cell_type": "code",
   "execution_count": null,
   "metadata": {},
   "outputs": [],
   "source": [
    "plt.figure(figsize=(10,10))\n",
    "sns.heatmap(data = clac.corr(), linewidths=.5, cmap='Blues')"
   ]
  },
  {
   "cell_type": "code",
   "execution_count": null,
   "metadata": {},
   "outputs": [],
   "source": [
    "from sklearn.cluster import AgglomerativeClustering\n",
    "n = 4\n",
    "model = AgglomerativeClustering(n_clusters=n)\n",
    "y_predict = model.fit_predict(clac.corr())"
   ]
  },
  {
   "cell_type": "code",
   "execution_count": null,
   "metadata": {},
   "outputs": [],
   "source": [
    "clac_new = []\n",
    "for i in range(n):\n",
    "    clac_new.extend(clac.columns[y_predict==i])\n",
    "clac_new = clac[clac_new]"
   ]
  },
  {
   "cell_type": "code",
   "execution_count": null,
   "metadata": {},
   "outputs": [],
   "source": [
    "clac.columns[y_predict==3]"
   ]
  },
  {
   "cell_type": "code",
   "execution_count": null,
   "metadata": {},
   "outputs": [],
   "source": [
    "plt.figure(figsize=(10,10))\n",
    "sns.heatmap(data = clac_new.corr(), linewidths=.5, cmap='Blues')"
   ]
  },
  {
   "cell_type": "code",
   "execution_count": null,
   "metadata": {},
   "outputs": [],
   "source": [
    "group1 = clac[clac.columns[y_predict==0]]\n",
    "group1 = pd.melt(group1,var_name='clac').groupby('clac').sum()\n",
    "group1['group'] = 1\n",
    "group2 = clac[clac.columns[y_predict==1]]\n",
    "group2 = pd.melt(group2,var_name='clac').groupby('clac').sum()\n",
    "group2['group'] = 2\n",
    "group3 = clac[clac.columns[y_predict==2]]\n",
    "group3 = pd.melt(group3,var_name='clac').groupby('clac').sum()\n",
    "group3['group'] = 3\n",
    "group4 = clac[clac.columns[y_predict==3]]\n",
    "group4 = pd.melt(group4,var_name='clac').groupby('clac').sum()\n",
    "group4['group'] = 4\n",
    "group = pd.concat([group1,group2,group3,group4],axis=0)\n",
    "group = group.drop('value',axis=1)\n",
    "group = group.reset_index()\n",
    "group.columns = ['clac_nm1','group']"
   ]
  },
  {
   "cell_type": "code",
   "execution_count": null,
   "metadata": {},
   "outputs": [],
   "source": [
    "group = pd.merge(product,group,on='clac_nm1',how='left')"
   ]
  },
  {
   "cell_type": "code",
   "execution_count": null,
   "metadata": {},
   "outputs": [],
   "source": [
    "group.to_pickle(\"../new_data/data_set/online_group.pkl\")"
   ]
  },
  {
   "cell_type": "markdown",
   "metadata": {},
   "source": [
    "## offline "
   ]
  },
  {
   "cell_type": "code",
   "execution_count": null,
   "metadata": {},
   "outputs": [],
   "source": [
    "tran = transaction.loc[transaction['biz_unit']=='B']\n",
    "tran = tran[['clnt_id','pd_c']]\n",
    "tran['pd_c'] = tran['pd_c'].astype(int)\n",
    "clac = product[['pd_c','clac_nm1']]\n",
    "clac['pd_c'] = clac['pd_c'].astype(int)\n",
    "clac = pd.merge(tran,clac,on='pd_c',how='left')\n",
    "clac['count'] = 1\n",
    "clac = pd.pivot_table(clac,index='clnt_id',columns='clac_nm1',values='count',aggfunc=sum)\n",
    "clac = clac.fillna(0)"
   ]
  },
  {
   "cell_type": "code",
   "execution_count": null,
   "metadata": {},
   "outputs": [],
   "source": [
    "clac.to_pickle(\"../new_data/data_set/offline_clac.pkl\")"
   ]
  },
  {
   "cell_type": "code",
   "execution_count": null,
   "metadata": {},
   "outputs": [],
   "source": [
    "plt.figure(figsize=(10,10))\n",
    "sns.heatmap(data = clac.corr(), linewidths=.5, cmap='Blues')"
   ]
  },
  {
   "cell_type": "code",
   "execution_count": null,
   "metadata": {},
   "outputs": [],
   "source": [
    "from sklearn.cluster import AgglomerativeClustering\n",
    "n = 4\n",
    "model = AgglomerativeClustering(n_clusters=n)\n",
    "y_predict = model.fit_predict(clac.corr())"
   ]
  },
  {
   "cell_type": "code",
   "execution_count": null,
   "metadata": {},
   "outputs": [],
   "source": [
    "clac_new = []\n",
    "for i in range(n):\n",
    "    clac_new.extend(clac.columns[y_predict==i])\n",
    "clac_new = clac[clac_new]"
   ]
  },
  {
   "cell_type": "code",
   "execution_count": null,
   "metadata": {},
   "outputs": [],
   "source": [
    "clac.columns[y_predict==3]"
   ]
  },
  {
   "cell_type": "code",
   "execution_count": null,
   "metadata": {},
   "outputs": [],
   "source": [
    "plt.figure(figsize=(10,10))\n",
    "sns.heatmap(data = clac_new.corr(), linewidths=.5, cmap='Blues')"
   ]
  },
  {
   "cell_type": "code",
   "execution_count": null,
   "metadata": {},
   "outputs": [],
   "source": [
    "group1 = clac[clac.columns[y_predict==0]]\n",
    "group1 = pd.melt(group1,var_name='clac').groupby('clac').sum()\n",
    "group1['group'] = 1\n",
    "group2 = clac[clac.columns[y_predict==1]]\n",
    "group2 = pd.melt(group2,var_name='clac').groupby('clac').sum()\n",
    "group2['group'] = 2\n",
    "group3 = clac[clac.columns[y_predict==2]]\n",
    "group3 = pd.melt(group3,var_name='clac').groupby('clac').sum()\n",
    "group3['group'] = 3\n",
    "group4 = clac[clac.columns[y_predict==3]]\n",
    "group4 = pd.melt(group4,var_name='clac').groupby('clac').sum()\n",
    "group4['group'] = 4\n",
    "group = pd.concat([group1,group2,group3,group4],axis=0)\n",
    "group = group.drop('value',axis=1)\n",
    "group = group.reset_index()\n",
    "group.columns = ['clac_nm1','group']"
   ]
  },
  {
   "cell_type": "code",
   "execution_count": null,
   "metadata": {},
   "outputs": [],
   "source": [
    "group = pd.merge(product,group,on='clac_nm1',how='left')"
   ]
  },
  {
   "cell_type": "code",
   "execution_count": null,
   "metadata": {},
   "outputs": [],
   "source": [
    "group.to_pickle(\"../new_data/data_set/offline_group.pkl\")"
   ]
  },
  {
   "cell_type": "code",
   "execution_count": null,
   "metadata": {},
   "outputs": [],
   "source": [
    "group.groupby('group').size()"
   ]
  }
 ],
 "metadata": {
  "kernelspec": {
   "display_name": "Python 3",
   "language": "python",
   "name": "python3"
  },
  "language_info": {
   "codemirror_mode": {
    "name": "ipython",
    "version": 3
   },
   "file_extension": ".py",
   "mimetype": "text/x-python",
   "name": "python",
   "nbconvert_exporter": "python",
   "pygments_lexer": "ipython3",
   "version": "3.7.6"
  }
 },
 "nbformat": 4,
 "nbformat_minor": 2
}
