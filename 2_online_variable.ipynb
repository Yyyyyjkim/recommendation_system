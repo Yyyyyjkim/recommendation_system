{
 "cells": [
  {
   "cell_type": "code",
   "execution_count": null,
   "metadata": {},
   "outputs": [],
   "source": [
    "import pandas as pd\n",
    "import numpy as np\n",
    "import matplotlib.pyplot as plt\n",
    "import seaborn as sns\n",
    "from datetime import datetime\n",
    "from sklearn.preprocessing import StandardScaler\n",
    "import math"
   ]
  },
  {
   "cell_type": "code",
   "execution_count": null,
   "metadata": {},
   "outputs": [],
   "source": [
    "import warnings\n",
    "warnings.filterwarnings(\"ignore\")"
   ]
  },
  {
   "cell_type": "code",
   "execution_count": null,
   "metadata": {},
   "outputs": [],
   "source": [
    "customer = pd.read_pickle(\"../new_data/data_set/customer.pkl\")\n",
    "online = pd.read_pickle(\"../new_data/data_set/online.pkl\")\n",
    "product = pd.read_pickle(\"../new_data/data_set/product.pkl\")\n",
    "transaction = pd.read_pickle(\"../new_data/data_set/transaction.pkl\")\n",
    "clac = pd.read_pickle(\"../new_data/data_set/online_clac.pkl\")\n",
    "group = pd.read_pickle(\"../new_data/data_set/online_group.pkl\")"
   ]
  },
  {
   "cell_type": "markdown",
   "metadata": {},
   "source": [
    "# Transaction "
   ]
  },
  {
   "cell_type": "code",
   "execution_count": null,
   "metadata": {},
   "outputs": [],
   "source": [
    "buy = transaction.loc[transaction['biz_unit']=='A']\n",
    "buy[['buy_am','buy_ct']] = buy[['buy_am','buy_ct']].astype(float)\n",
    "buy_ct = buy[['clnt_id','buy_ct']].groupby('clnt_id').sum()\n",
    "buy_am = buy[['clnt_id','buy_am']].groupby('clnt_id').sum()\n",
    "tran_freq = buy[['clnt_id','trans_id']]\n",
    "tran_freq = tran_freq.drop_duplicates(['clnt_id','trans_id'],keep='first')\n",
    "tran_freq['tran_freq'] = 1\n",
    "tran_freq = tran_freq[['clnt_id','tran_freq']]\n",
    "tran_freq = tran_freq.groupby('clnt_id').sum()\n",
    "tran_ct = buy[['clnt_id','trans_id','buy_ct']].groupby(['clnt_id','trans_id']).sum()\n",
    "tran_ct = tran_ct.groupby('clnt_id').mean()\n",
    "tran_ct.columns = ['tran_ct']\n",
    "tran_am = buy[['clnt_id','trans_id','buy_am']].groupby(['clnt_id','trans_id']).sum()\n",
    "tran_am = tran_am.groupby('clnt_id').mean()\n",
    "tran_am.columns = ['tran_am']"
   ]
  },
  {
   "cell_type": "code",
   "execution_count": null,
   "metadata": {},
   "outputs": [],
   "source": [
    "clac_var = (clac != 0).astype(int)\n",
    "clac_var = pd.DataFrame(clac_var.sum(axis=1))\n",
    "clac_var.columns = ['clac_var']\n",
    "clac_ct = pd.merge(buy_ct,clac_var,on='clnt_id',how='left')\n",
    "clac_ct['clac_ct'] = clac_ct['buy_ct']/clac_ct['clac_var']\n",
    "clac_ct = pd.DataFrame(clac_ct['clac_ct'])\n",
    "clac_am = pd.merge(buy_am,clac_var,on='clnt_id',how='left')\n",
    "clac_am['clac_am'] = clac_am['buy_am']/clac_am['clac_var']\n",
    "clac_am = pd.DataFrame(clac_am['clac_am'])"
   ]
  },
  {
   "cell_type": "code",
   "execution_count": null,
   "metadata": {},
   "outputs": [],
   "source": [
    "basic = pd.merge(buy_ct,buy_am,on='clnt_id',how='left')\n",
    "basic = pd.merge(basic,tran_freq,on='clnt_id',how='left')\n",
    "basic = pd.merge(basic,tran_ct,on='clnt_id',how='left')\n",
    "basic = pd.merge(basic,tran_am,on='clnt_id',how='left')\n",
    "basic = pd.merge(basic,clac_var,on='clnt_id',how='left')\n",
    "basic = pd.merge(basic,clac_ct,on='clnt_id',how='left')\n",
    "basic = pd.merge(basic,clac_am,on='clnt_id',how='left')"
   ]
  },
  {
   "cell_type": "code",
   "execution_count": null,
   "metadata": {},
   "outputs": [],
   "source": [
    "basic.to_pickle(\"../new_data/online/basic.pkl\")"
   ]
  },
  {
   "cell_type": "markdown",
   "metadata": {},
   "source": [
    "# Time "
   ]
  },
  {
   "cell_type": "markdown",
   "metadata": {},
   "source": [
    "## 1) week "
   ]
  },
  {
   "cell_type": "code",
   "execution_count": null,
   "metadata": {},
   "outputs": [],
   "source": [
    "tran_time = transaction.loc[transaction['biz_unit']=='A']\n",
    "tran_time['month'] = np.array([i.month for i in tran_time['date_time']])\n",
    "tran_time['day'] = np.array([i.day for i in tran_time['date_time']])\n",
    "tran_time['time'] = np.array([i.hour for i in tran_time['date_time']])\n",
    "tran_time['weekday'] = np.array([i.weekday() for i in tran_time['date_time']])"
   ]
  },
  {
   "cell_type": "code",
   "execution_count": null,
   "metadata": {},
   "outputs": [],
   "source": [
    "weekday = tran_time[['clnt_id','pd_c','weekday']]\n",
    "weekday['count'] = 1\n",
    "weekday = pd.pivot_table(weekday, index='clnt_id',columns='weekday',values='count',aggfunc=sum)\n",
    "weekday = weekday.fillna(0)\n",
    "weekday.columns = ['mon','tue','wed','thu','fri','sat','sun']"
   ]
  },
  {
   "cell_type": "code",
   "execution_count": null,
   "metadata": {
    "scrolled": false
   },
   "outputs": [],
   "source": [
    "week_plot = pd.melt(weekday,var_name='days',value_name='count')\n",
    "sns.boxplot(x='days',y='count',data=week_plot, showfliers=False)\n",
    "plt.title('distribution of transaction by weekdays')\n",
    "plt.show()"
   ]
  },
  {
   "cell_type": "code",
   "execution_count": null,
   "metadata": {},
   "outputs": [],
   "source": [
    "week = weekday[['mon','tue','wed','thu','fri']]\n",
    "week = pd.DataFrame(week.sum(axis=1))\n",
    "weekend = weekday[['sat','sun']]\n",
    "weekend = pd.DataFrame(weekend.sum(axis=1))\n",
    "weekday = pd.merge(week,weekend,on='clnt_id',how='outer')\n",
    "weekday.columns = ['week','weekend']"
   ]
  },
  {
   "cell_type": "code",
   "execution_count": null,
   "metadata": {},
   "outputs": [],
   "source": [
    "weekday['week'] = weekday['week']/5\n",
    "weekday['weekend'] = weekday['weekend']/2"
   ]
  },
  {
   "cell_type": "code",
   "execution_count": null,
   "metadata": {
    "scrolled": true
   },
   "outputs": [],
   "source": [
    "week_plot = pd.melt(weekday,var_name='days',value_name='count')\n",
    "sns.boxplot(x='days',y='count',data=week_plot, showfliers=False)\n",
    "plt.title('distribution of transaction by week / weekend')\n",
    "plt.show()"
   ]
  },
  {
   "cell_type": "markdown",
   "metadata": {},
   "source": [
    "## 2) time "
   ]
  },
  {
   "cell_type": "code",
   "execution_count": null,
   "metadata": {},
   "outputs": [],
   "source": [
    "time = tran_time[['clnt_id','pd_c','time']]\n",
    "time['count'] = 1\n",
    "time = pd.pivot_table(time, index='clnt_id',columns='time',values='count',aggfunc=sum)\n",
    "time = time.fillna(0)"
   ]
  },
  {
   "cell_type": "code",
   "execution_count": null,
   "metadata": {
    "scrolled": true
   },
   "outputs": [],
   "source": [
    "time_plot = pd.melt(time,var_name='time',value_name='count')\n",
    "sns.boxplot(x='time',y='count',data=time_plot.loc[time_plot['count']!=0], showfliers=False)\n",
    "plt.title('distribution of transaction by time')\n",
    "plt.show()"
   ]
  },
  {
   "cell_type": "code",
   "execution_count": null,
   "metadata": {},
   "outputs": [],
   "source": [
    "tran_time['timezone'] = 0\n",
    "tran_time['timezone'].loc[[i in [0,1,2,3,4,5,6,7,8] for i in tran_time['time']]] = 1\n",
    "tran_time['timezone'].loc[[i in [9,10,11,12,13,14,15,16] for i in tran_time['time']]] = 2\n",
    "tran_time['timezone'].loc[[i in [17,18,19,20,21,22,23] for i in tran_time['time']]] = 3\n",
    "# tran_time['timezone'].loc[[i in [15,16,17,18,19,20] for i in tran_time['time']]] = 4"
   ]
  },
  {
   "cell_type": "code",
   "execution_count": null,
   "metadata": {},
   "outputs": [],
   "source": [
    "time = tran_time[['clnt_id','pd_c','timezone']]\n",
    "time['count'] = 1\n",
    "time = pd.pivot_table(time, index='clnt_id',columns='timezone',values='count',aggfunc=sum)\n",
    "time = time.fillna(0)\n",
    "time.columns = ['time'+str(i+1) for i in range(3)]"
   ]
  },
  {
   "cell_type": "code",
   "execution_count": null,
   "metadata": {},
   "outputs": [],
   "source": [
    "time['time1'] = time['time1']/9\n",
    "time['time2'] = time['time2']/8\n",
    "time['time3'] = time['time3']/7\n",
    "# time['time4'] = time['time4']/6"
   ]
  },
  {
   "cell_type": "code",
   "execution_count": null,
   "metadata": {
    "scrolled": false
   },
   "outputs": [],
   "source": [
    "time_plot = pd.melt(time,var_name='timezone',value_name='count')\n",
    "sns.boxplot(x='timezone',y='count',data=time_plot.loc[time_plot['count']!=0], showfliers=False)\n",
    "plt.title('distribution of transaction by timezone')\n",
    "plt.show()"
   ]
  },
  {
   "cell_type": "code",
   "execution_count": null,
   "metadata": {},
   "outputs": [],
   "source": [
    "time = pd.merge(weekday,time,on='clnt_id',how='outer')\n",
    "time.to_pickle(\"../new_data/online/time.pkl\")"
   ]
  },
  {
   "cell_type": "markdown",
   "metadata": {},
   "source": [
    "# Online"
   ]
  },
  {
   "cell_type": "code",
   "execution_count": null,
   "metadata": {},
   "outputs": [],
   "source": [
    "# customer information\n",
    "online_customer = pd.DataFrame(online['clnt_id'].unique())\n",
    "online_customer.columns = ['clnt_id']"
   ]
  },
  {
   "cell_type": "code",
   "execution_count": null,
   "metadata": {},
   "outputs": [],
   "source": [
    "# transaction proportion\n",
    "online_tran = online[['clnt_id','sess_id','action_type']]\n",
    "online_tran['transaction'] = (online_tran['action_type']=='6').astype(int)\n",
    "online_tran = online_tran.drop('action_type',axis=1)\n",
    "online_tran = online_tran.groupby(['clnt_id','sess_id']).sum()\n",
    "online_tran = (online_tran > 0).astype(int)\n",
    "online_tran = online_tran.groupby('clnt_id').mean()"
   ]
  },
  {
   "cell_type": "code",
   "execution_count": null,
   "metadata": {},
   "outputs": [],
   "source": [
    "# search information\n",
    "online_search = online[['clnt_id','action_type']]\n",
    "online_search = online_search.loc[online_search['action_type']=='0']\n",
    "online_search = pd.DataFrame(online_search.groupby('clnt_id').size())\n",
    "# basket information\n",
    "online_basket = online[['clnt_id','action_type']]\n",
    "online_basket = online_basket.loc[online_basket['action_type']=='3']\n",
    "online_basket = pd.DataFrame(online_basket.groupby('clnt_id').size())"
   ]
  },
  {
   "cell_type": "code",
   "execution_count": null,
   "metadata": {},
   "outputs": [],
   "source": [
    "online_trfc = online[['clnt_id','sess_id','trfc_src']]\n",
    "online_trfc = online_trfc.drop_duplicates(['clnt_id','sess_id'],keep='first')\n",
    "online_trfc['count'] = 1\n",
    "online_trfc = pd.pivot_table(online_trfc,index='clnt_id',columns='trfc_src',values='count',aggfunc=sum)\n",
    "online_trfc = online_trfc.fillna(0)\n",
    "trfc_plot = pd.melt(online_trfc,var_name='trfc_src',value_name='count')\n",
    "sns.boxplot(x='trfc_src',y='count',data=trfc_plot)\n",
    "plt.show()"
   ]
  },
  {
   "cell_type": "code",
   "execution_count": null,
   "metadata": {},
   "outputs": [],
   "source": [
    "online_trfc['portal'] = online_trfc[['PORTAL_1','PORTAL_2','PORTAL_3']].sum(axis=1)\n",
    "online_trfc = online_trfc.drop(['PORTAL_1','PORTAL_2','PORTAL_3'],axis=1)"
   ]
  },
  {
   "cell_type": "code",
   "execution_count": null,
   "metadata": {},
   "outputs": [],
   "source": [
    "# dvc information\n",
    "online_dvc = online[['clnt_id','sess_id','dvc_ctg_nm']]\n",
    "online_dvc = online_dvc.drop_duplicates(['clnt_id','sess_id'],keep='first')\n",
    "online_dvc['count'] = 1\n",
    "online_dvc = pd.pivot_table(online_dvc,index='clnt_id',columns='dvc_ctg_nm',values='count',aggfunc=sum)\n",
    "online_dvc = online_dvc.fillna(0)"
   ]
  },
  {
   "cell_type": "code",
   "execution_count": null,
   "metadata": {},
   "outputs": [],
   "source": [
    "# sesstion view information\n",
    "# 한 번의 구매당 평균 view 횟수\n",
    "# 소비마다 구매 양상이 다르지 않을 것이다.(ex, 신중히 구매하는 타입, 대충 구매하는 타입 등등)\n",
    "# online_buy = online.loc[online['action_type']=='6']\n",
    "online_view = online[['clnt_id','tot_pag_view_ct']]\n",
    "online_view = online_view.fillna(0)\n",
    "online_view['tot_pag_view_ct'] = online_view['tot_pag_view_ct'].astype(int)\n",
    "online_view = pd.DataFrame(online_view.groupby('clnt_id').mean())"
   ]
  },
  {
   "cell_type": "code",
   "execution_count": null,
   "metadata": {},
   "outputs": [],
   "source": [
    "# sesstion hour information\n",
    "# 한 번의 구매당 평균 sesstion 시간\n",
    "# online_buy = online.loc[online['action_type']=='6']\n",
    "online_hour = online[['clnt_id','tot_sess_hr_v']]\n",
    "online_hour = online_hour.fillna(0)\n",
    "online_hour['tot_sess_hr_v'] = online_hour['tot_sess_hr_v'].astype(int)\n",
    "online_hour = pd.DataFrame(online_hour.groupby('clnt_id').mean())"
   ]
  },
  {
   "cell_type": "code",
   "execution_count": null,
   "metadata": {},
   "outputs": [],
   "source": [
    "# merge information\n",
    "online_total = pd.merge(online_customer,online_tran,on='clnt_id',how='left')\n",
    "online_total = pd.merge(online_total,online_search,on='clnt_id',how='left')\n",
    "online_total = pd.merge(online_total,online_basket,on='clnt_id',how='left')\n",
    "#online_total = pd.merge(online_total,online_trfc,on='clnt_id',how='left')\n",
    "#online_total = pd.merge(online_total,online_dvc,on='clnt_id',how='left')\n",
    "online_total = pd.merge(online_total,online_view,on='clnt_id',how='left')\n",
    "online_total = pd.merge(online_total,online_hour,on='clnt_id',how='left')\n",
    "online_total.columns = ['clnt_id','transaction','search','basket','view','hour']\n",
    "online_total = online_total.fillna(0)\n",
    "online_total = online_total.set_index('clnt_id')"
   ]
  },
  {
   "cell_type": "code",
   "execution_count": null,
   "metadata": {},
   "outputs": [],
   "source": [
    "online_total"
   ]
  },
  {
   "cell_type": "code",
   "execution_count": null,
   "metadata": {},
   "outputs": [],
   "source": [
    "online_total.to_pickle(\"../new_data/online/online.pkl\")"
   ]
  },
  {
   "cell_type": "markdown",
   "metadata": {},
   "source": [
    "# Group"
   ]
  },
  {
   "cell_type": "code",
   "execution_count": null,
   "metadata": {},
   "outputs": [],
   "source": [
    "on_tran = transaction.loc[transaction['biz_unit']=='A']\n",
    "on_tran['pd_c'] = on_tran['pd_c'].astype(int)\n",
    "group['pd_c'] = group['pd_c'].astype(int)"
   ]
  },
  {
   "cell_type": "code",
   "execution_count": null,
   "metadata": {},
   "outputs": [],
   "source": [
    "on_group = pd.merge(on_tran[['clnt_id','pd_c']],group[['pd_c','group']],on='pd_c',how='left')\n",
    "on_group['count'] = 1\n",
    "on_group = pd.pivot_table(on_group,index='clnt_id',columns='group',values='count',aggfunc=sum)\n",
    "on_group = on_group.fillna(0)"
   ]
  },
  {
   "cell_type": "code",
   "execution_count": null,
   "metadata": {},
   "outputs": [],
   "source": [
    "on_group.to_pickle(\"../new_data/online/ongroup.pkl\")"
   ]
  }
 ],
 "metadata": {
  "kernelspec": {
   "display_name": "Python 3",
   "language": "python",
   "name": "python3"
  },
  "language_info": {
   "codemirror_mode": {
    "name": "ipython",
    "version": 3
   },
   "file_extension": ".py",
   "mimetype": "text/x-python",
   "name": "python",
   "nbconvert_exporter": "python",
   "pygments_lexer": "ipython3",
   "version": "3.7.6"
  }
 },
 "nbformat": 4,
 "nbformat_minor": 2
}
