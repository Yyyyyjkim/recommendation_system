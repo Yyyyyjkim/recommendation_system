{
 "cells": [
  {
   "cell_type": "code",
   "execution_count": null,
   "metadata": {},
   "outputs": [],
   "source": [
    "import pandas as pd\n",
    "import numpy as np\n",
    "import matplotlib.pyplot as plt\n",
    "import seaborn as sns\n",
    "from datetime import datetime\n",
    "from sklearn.preprocessing import StandardScaler\n",
    "import math"
   ]
  },
  {
   "cell_type": "code",
   "execution_count": null,
   "metadata": {},
   "outputs": [],
   "source": [
    "import warnings\n",
    "warnings.filterwarnings(\"ignore\")"
   ]
  },
  {
   "cell_type": "code",
   "execution_count": null,
   "metadata": {},
   "outputs": [],
   "source": [
    "transaction = pd.read_pickle(\"../new_data/data_set/transaction.pkl\")"
   ]
  },
  {
   "cell_type": "markdown",
   "metadata": {},
   "source": [
    "# Online "
   ]
  },
  {
   "cell_type": "code",
   "execution_count": null,
   "metadata": {},
   "outputs": [],
   "source": [
    "train = transaction.loc[transaction['date_time'] < datetime.strptime('2019-09-15','%Y-%m-%d')]\n",
    "train = train.loc[train['biz_unit']=='A']\n",
    "item_list = [str(i).zfill(4) for i in range(1,1668)]\n",
    "train = train.groupby(['clnt_id', 'pd_c'])['buy_ct'].count().unstack().reindex(item_list, axis=1).fillna(0)\n",
    "train.to_pickle(\"../new_data/train_test/online_train.pkl\")"
   ]
  },
  {
   "cell_type": "code",
   "execution_count": null,
   "metadata": {},
   "outputs": [],
   "source": [
    "test = transaction.loc[transaction['date_time'] >= datetime.strptime('2019-09-15','%Y-%m-%d')]\n",
    "test = test.loc[test['biz_unit']=='A']\n",
    "test = test.sort_values(['clnt_id','date_time'])\n",
    "test_id = test[['clnt_id','trans_id']]\n",
    "test_id = test_id.drop_duplicates(keep='first')\n",
    "test_id = test_id.drop_duplicates('clnt_id',keep='first')\n",
    "test = pd.merge(test_id,test,on=['clnt_id','trans_id'],how='left')\n",
    "test = test.groupby(['clnt_id', 'pd_c'])['buy_ct'].count().unstack().reindex(item_list, axis=1).fillna(0)\n",
    "test = test.applymap(lambda x : 1 if x >= 1 else 0)\n",
    "test.to_pickle(\"../new_data/train_test/online_test.pkl\")"
   ]
  },
  {
   "cell_type": "markdown",
   "metadata": {},
   "source": [
    "# Offline "
   ]
  },
  {
   "cell_type": "code",
   "execution_count": null,
   "metadata": {},
   "outputs": [],
   "source": [
    "train = transaction.loc[transaction['date_time'] < datetime.strptime('2019-09-15','%Y-%m-%d')]\n",
    "train = train.loc[train['biz_unit']=='B']\n",
    "item_list = [str(i).zfill(4) for i in range(1,1668)]\n",
    "train = train.groupby(['clnt_id', 'pd_c'])['buy_ct'].count().unstack().reindex(item_list, axis=1).fillna(0)\n",
    "train.to_pickle(\"../new_data/train_test/offline_train.pkl\")"
   ]
  },
  {
   "cell_type": "code",
   "execution_count": null,
   "metadata": {},
   "outputs": [],
   "source": [
    "test = transaction.loc[transaction['date_time'] >= datetime.strptime('2019-09-15','%Y-%m-%d')]\n",
    "test = test.loc[test['biz_unit']=='B']\n",
    "test = test.sort_values(['clnt_id','date_time'])\n",
    "test_id = test[['clnt_id','trans_id']]\n",
    "test_id = test_id.drop_duplicates(keep='first')\n",
    "test_id = test_id.drop_duplicates('clnt_id',keep='first')\n",
    "test = pd.merge(test_id,test,on=['clnt_id','trans_id'],how='left')\n",
    "test = test.groupby(['clnt_id', 'pd_c'])['buy_ct'].count().unstack().reindex(item_list, axis=1).fillna(0)\n",
    "test = test.applymap(lambda x : 1 if x >= 1 else 0)\n",
    "test.to_pickle(\"../new_data/train_test/offline_test.pkl\")"
   ]
  },
  {
   "cell_type": "markdown",
   "metadata": {},
   "source": [
    "# Total "
   ]
  },
  {
   "cell_type": "code",
   "execution_count": null,
   "metadata": {},
   "outputs": [],
   "source": [
    "train = transaction.loc[transaction['date_time'] < datetime.strptime('2019-09-15','%Y-%m-%d')]\n",
    "item_list = [str(i).zfill(4) for i in range(1,1668)]\n",
    "train = train.groupby(['clnt_id', 'pd_c'])['buy_ct'].count().unstack().reindex(item_list, axis=1).fillna(0)\n",
    "train.to_pickle(\"../new_data/train_test/train.pkl\")"
   ]
  },
  {
   "cell_type": "code",
   "execution_count": null,
   "metadata": {},
   "outputs": [],
   "source": [
    "test = transaction.loc[transaction['date_time'] >= datetime.strptime('2019-09-15','%Y-%m-%d')]\n",
    "test = test.sort_values(['clnt_id','date_time'])\n",
    "test_id = test[['clnt_id','trans_id']]\n",
    "test_id = test_id.drop_duplicates(keep='first')\n",
    "test_id = test_id.drop_duplicates('clnt_id',keep='first')\n",
    "test = pd.merge(test_id,test,on=['clnt_id','trans_id'],how='left')\n",
    "test = test.groupby(['clnt_id', 'pd_c'])['buy_ct'].count().unstack().reindex(item_list, axis=1).fillna(0)\n",
    "test = test.applymap(lambda x : 1 if x >= 1 else 0)\n",
    "test.to_pickle(\"../new_data/train_test/test.pkl\")"
   ]
  }
 ],
 "metadata": {
  "kernelspec": {
   "display_name": "Python 3",
   "language": "python",
   "name": "python3"
  },
  "language_info": {
   "codemirror_mode": {
    "name": "ipython",
    "version": 3
   },
   "file_extension": ".py",
   "mimetype": "text/x-python",
   "name": "python",
   "nbconvert_exporter": "python",
   "pygments_lexer": "ipython3",
   "version": "3.7.6"
  }
 },
 "nbformat": 4,
 "nbformat_minor": 2
}
