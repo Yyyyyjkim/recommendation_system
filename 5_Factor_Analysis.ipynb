{
 "cells": [
  {
   "cell_type": "code",
   "execution_count": null,
   "metadata": {},
   "outputs": [],
   "source": [
    "import pandas as pd\n",
    "import numpy as np\n",
    "import matplotlib.pyplot as plt\n",
    "import seaborn as sns\n",
    "from datetime import datetime\n",
    "from sklearn.preprocessing import StandardScaler\n",
    "import math"
   ]
  },
  {
   "cell_type": "code",
   "execution_count": null,
   "metadata": {},
   "outputs": [],
   "source": [
    "import warnings\n",
    "warnings.filterwarnings(\"ignore\")"
   ]
  },
  {
   "cell_type": "code",
   "execution_count": null,
   "metadata": {},
   "outputs": [],
   "source": [
    "online_basic = pd.read_pickle(\"../new_data/variables/online_basic.pkl\")\n",
    "online_time = pd.read_pickle(\"../new_data/variables/online_time.pkl\")\n",
    "online = pd.read_pickle(\"../new_data/variables/online.pkl\")\n",
    "online_group = pd.read_pickle(\"../new_data/variables/online_group.pkl\")\n",
    "offline_basic = pd.read_pickle(\"../new_data/variables/offline_basic.pkl\")\n",
    "offline_time = pd.read_pickle(\"../new_data/variables/offline_time.pkl\")\n",
    "offline_group = pd.read_pickle(\"../new_data/variables/offline_group.pkl\")"
   ]
  },
  {
   "cell_type": "code",
   "execution_count": null,
   "metadata": {},
   "outputs": [],
   "source": [
    "def scaling(df):\n",
    "    scaler = StandardScaler()\n",
    "    df_scaler = scaler.fit(df)\n",
    "    df_scale = df_scaler.transform(df)\n",
    "    df_scale = pd.DataFrame(df_scale)\n",
    "    df_scale.columns = df.columns\n",
    "    df_scale.index = df.index\n",
    "    return(df_scale)\n",
    "\n",
    "def covariance(df):\n",
    "    df_cov = pd.DataFrame(np.cov(df,rowvar=0))\n",
    "    df_cov.columns = df.columns\n",
    "    df_cov.index = df.columns\n",
    "    return(df_cov)\n",
    "\n",
    "def factor_analysis(df_cov):\n",
    "    U,S,V = np.linalg.svd(df_cov,full_matrices=True)\n",
    "    U = pd.DataFrame(U)\n",
    "    V = pd.DataFrame(V)\n",
    "    return(U,S,V)\n",
    "\n",
    "def factor_score(df,df_cov,loading,data):\n",
    "    error = pd.DataFrame(df_cov - loading @ loading.T)\n",
    "    term1 = np.dot(np.array(loading.T),np.linalg.inv(error))\n",
    "    term1 = np.dot(term1,np.array(loading))\n",
    "    term1 = np.linalg.inv(term1)\n",
    "    term2 = np.dot(np.array(loading.T),np.linalg.inv(error))\n",
    "    term = np.dot(term1,term2)\n",
    "    score = [term@np.array(df.loc[i]) for i in df.index]\n",
    "    score = pd.DataFrame(score)\n",
    "    score.index = df.index\n",
    "    score.columns = [data+str(i+1) for i in range(len(score.columns))]\n",
    "    return(score)"
   ]
  },
  {
   "cell_type": "markdown",
   "metadata": {},
   "source": [
    "# Online Data"
   ]
  },
  {
   "cell_type": "code",
   "execution_count": null,
   "metadata": {},
   "outputs": [],
   "source": [
    "online_var = pd.merge(online_basic, online_time, on='clnt_id', how='outer')\n",
    "online_var = pd.merge(online_var, online, on='clnt_id', how='left')\n",
    "online_var = online_var.fillna(0)\n",
    "online_var = scaling(online_var)"
   ]
  },
  {
   "cell_type": "code",
   "execution_count": null,
   "metadata": {},
   "outputs": [],
   "source": [
    "online_cov = covariance(online_var)\n",
    "U,S,V = factor_analysis(online_cov)"
   ]
  },
  {
   "cell_type": "code",
   "execution_count": null,
   "metadata": {},
   "outputs": [],
   "source": [
    "plt.plot(S)"
   ]
  },
  {
   "cell_type": "code",
   "execution_count": null,
   "metadata": {},
   "outputs": [],
   "source": [
    "S[0:5]/S.sum()"
   ]
  },
  {
   "cell_type": "code",
   "execution_count": null,
   "metadata": {
    "scrolled": true
   },
   "outputs": [],
   "source": [
    "loading = pd.DataFrame(np.dot(U.loc[:,0:4],np.diag([i**0.5 for i in S[0:5]])))\n",
    "loading.index = online_var.columns\n",
    "loading.columns = ['online'+str(i+1) for i in range(len(loading.columns))]\n",
    "round(loading,2)"
   ]
  },
  {
   "cell_type": "code",
   "execution_count": null,
   "metadata": {},
   "outputs": [],
   "source": [
    "com = loading['online1']**2 + loading['online2']**2 + loading['online3']**2 + loading['online4']**2 + loading['online5']**2"
   ]
  },
  {
   "cell_type": "code",
   "execution_count": null,
   "metadata": {
    "scrolled": true
   },
   "outputs": [],
   "source": [
    "pd.DataFrame(round(com,2))"
   ]
  },
  {
   "cell_type": "code",
   "execution_count": null,
   "metadata": {},
   "outputs": [],
   "source": [
    "error = pd.DataFrame(online_cov - loading @ loading.T)\n",
    "plt.figure(figsize=(10,10))\n",
    "sns.heatmap(data = error, linewidths=.5, cmap='Blues')"
   ]
  },
  {
   "cell_type": "code",
   "execution_count": null,
   "metadata": {},
   "outputs": [],
   "source": [
    "online_score = factor_score(online_var,online_cov,loading,'online')"
   ]
  },
  {
   "cell_type": "code",
   "execution_count": null,
   "metadata": {},
   "outputs": [],
   "source": [
    "(np.argsort(np.argsort(online_score))==4).sum()"
   ]
  },
  {
   "cell_type": "code",
   "execution_count": null,
   "metadata": {},
   "outputs": [],
   "source": [
    "online_score.to_pickle(\"../new_data/factor_score/online_score.pkl\")"
   ]
  },
  {
   "cell_type": "code",
   "execution_count": null,
   "metadata": {},
   "outputs": [],
   "source": [
    "online_group.columns = ['group1','group2','group3','group4']"
   ]
  },
  {
   "cell_type": "code",
   "execution_count": null,
   "metadata": {},
   "outputs": [],
   "source": [
    "online_clac = pd.merge(online_score,online_group,on='clnt_id',how='outer')"
   ]
  },
  {
   "cell_type": "code",
   "execution_count": null,
   "metadata": {},
   "outputs": [],
   "source": [
    "a = online_clac[['group1','group2','group3','group4']].sum()\n",
    "a / a.sum()"
   ]
  },
  {
   "cell_type": "code",
   "execution_count": null,
   "metadata": {},
   "outputs": [],
   "source": [
    "plt.figure(figsize=(10,10))\n",
    "sns.heatmap(data = online_clac.corr(), linewidths=.5, annot=True, cmap='Blues')"
   ]
  },
  {
   "cell_type": "markdown",
   "metadata": {},
   "source": [
    "# Offline Data"
   ]
  },
  {
   "cell_type": "code",
   "execution_count": null,
   "metadata": {},
   "outputs": [],
   "source": [
    "offline_var = pd.merge(offline_basic, offline_time, on='clnt_id', how='outer')\n",
    "offline_var = scaling(offline_var)\n",
    "offline_cov = covariance(offline_var)\n",
    "U,S,V = factor_analysis(offline_cov)"
   ]
  },
  {
   "cell_type": "code",
   "execution_count": null,
   "metadata": {},
   "outputs": [],
   "source": [
    "plt.plot(S)"
   ]
  },
  {
   "cell_type": "code",
   "execution_count": null,
   "metadata": {},
   "outputs": [],
   "source": [
    "S[0:3]/S.sum()"
   ]
  },
  {
   "cell_type": "code",
   "execution_count": null,
   "metadata": {
    "scrolled": true
   },
   "outputs": [],
   "source": [
    "loading = pd.DataFrame(np.dot(U.loc[:,0:2],np.diag([i**0.5 for i in S[0:3]])))\n",
    "loading.index = offline_var.columns\n",
    "loading.columns = ['offline'+str(i+1) for i in range(len(loading.columns))]\n",
    "round(loading,2)"
   ]
  },
  {
   "cell_type": "code",
   "execution_count": null,
   "metadata": {},
   "outputs": [],
   "source": [
    "com = loading['offline1']**2 + loading['offline2']**2 + loading['offline3']**2"
   ]
  },
  {
   "cell_type": "code",
   "execution_count": null,
   "metadata": {},
   "outputs": [],
   "source": [
    "pd.DataFrame(round(com,2))"
   ]
  },
  {
   "cell_type": "code",
   "execution_count": null,
   "metadata": {},
   "outputs": [],
   "source": [
    "error = pd.DataFrame(offline_cov - loading @ loading.T)\n",
    "plt.figure(figsize=(7,7))\n",
    "sns.heatmap(data = error, linewidths=.5, cmap='Blues')"
   ]
  },
  {
   "cell_type": "code",
   "execution_count": null,
   "metadata": {},
   "outputs": [],
   "source": [
    "offline_score = factor_score(offline_var,offline_cov,loading,'offline')"
   ]
  },
  {
   "cell_type": "code",
   "execution_count": null,
   "metadata": {},
   "outputs": [],
   "source": [
    "offline_score.head(20)"
   ]
  },
  {
   "cell_type": "code",
   "execution_count": null,
   "metadata": {},
   "outputs": [],
   "source": [
    "(np.argsort(np.argsort(offline_score))==2).sum()"
   ]
  },
  {
   "cell_type": "code",
   "execution_count": null,
   "metadata": {},
   "outputs": [],
   "source": [
    "offline_score.to_pickle(\"../new_data/factor_score/offline_score.pkl\")"
   ]
  },
  {
   "cell_type": "code",
   "execution_count": null,
   "metadata": {},
   "outputs": [],
   "source": [
    "offline_group.columns = ['group1','group2','group3','group4']"
   ]
  },
  {
   "cell_type": "code",
   "execution_count": null,
   "metadata": {},
   "outputs": [],
   "source": [
    "offline_clac = pd.merge(offline_score,offline_group,on='clnt_id',how='outer')"
   ]
  },
  {
   "cell_type": "code",
   "execution_count": null,
   "metadata": {},
   "outputs": [],
   "source": [
    "a = offline_clac[['group1','group2','group3','group4']].sum()\n",
    "a / a.sum()"
   ]
  },
  {
   "cell_type": "code",
   "execution_count": null,
   "metadata": {
    "scrolled": true
   },
   "outputs": [],
   "source": [
    "plt.figure(figsize=(10,10))\n",
    "sns.heatmap(data = offline_clac.corr(), linewidths=.5, annot=True,cmap='Blues')"
   ]
  },
  {
   "cell_type": "code",
   "execution_count": null,
   "metadata": {},
   "outputs": [],
   "source": [
    "score = pd.merge(online_score,offline_score,on='clnt_id',how='outer')"
   ]
  },
  {
   "cell_type": "code",
   "execution_count": null,
   "metadata": {},
   "outputs": [],
   "source": [
    "score.head(20)"
   ]
  },
  {
   "cell_type": "code",
   "execution_count": null,
   "metadata": {},
   "outputs": [],
   "source": [
    "plt.figure(figsize=(10,10))\n",
    "sns.heatmap(data = score.corr(), annot=True,linewidths=.5, cmap='Blues')"
   ]
  }
 ],
 "metadata": {
  "kernelspec": {
   "display_name": "Python 3",
   "language": "python",
   "name": "python3"
  },
  "language_info": {
   "codemirror_mode": {
    "name": "ipython",
    "version": 3
   },
   "file_extension": ".py",
   "mimetype": "text/x-python",
   "name": "python",
   "nbconvert_exporter": "python",
   "pygments_lexer": "ipython3",
   "version": "3.7.6"
  }
 },
 "nbformat": 4,
 "nbformat_minor": 2
}
