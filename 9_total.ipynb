{
 "cells": [
  {
   "cell_type": "code",
   "execution_count": null,
   "metadata": {},
   "outputs": [],
   "source": [
    "import pandas as pd\n",
    "import numpy as np\n",
    "import matplotlib.pyplot as plt\n",
    "import seaborn as sns\n",
    "from datetime import datetime\n",
    "from sklearn.preprocessing import StandardScaler\n",
    "import math"
   ]
  },
  {
   "cell_type": "code",
   "execution_count": null,
   "metadata": {},
   "outputs": [],
   "source": [
    "import warnings\n",
    "warnings.filterwarnings(\"ignore\")"
   ]
  },
  {
   "cell_type": "code",
   "execution_count": null,
   "metadata": {},
   "outputs": [],
   "source": [
    "train = pd.read_pickle(\"../new_data/train_test/train.pkl\")\n",
    "test = pd.read_pickle(\"../new_data/train_test/test.pkl\")"
   ]
  },
  {
   "cell_type": "code",
   "execution_count": null,
   "metadata": {},
   "outputs": [],
   "source": [
    "def user_topk(user_sim,train,topk):\n",
    "    fit = user_sim @ train\n",
    "    fit_sort = np.argsort(np.argsort(-fit,axis=1),axis=1)\n",
    "    fit_topk = (fit_sort <= (topk-1))\n",
    "    fit_topk = fit_topk.astype(int)\n",
    "    return(fit_topk)"
   ]
  },
  {
   "cell_type": "code",
   "execution_count": null,
   "metadata": {},
   "outputs": [],
   "source": [
    "def item_topk(item_sim,train,topk):\n",
    "    fit = train @ item_sim\n",
    "    fit_sort = np.argsort(np.argsort(-fit,axis=1),axis=1)\n",
    "    fit_topk = (fit_sort <= (topk-1))\n",
    "    fit_topk = fit_topk.astype(int)\n",
    "    return(fit_topk)"
   ]
  },
  {
   "cell_type": "code",
   "execution_count": null,
   "metadata": {},
   "outputs": [],
   "source": [
    "def test_topk(topk_fit,test,topk):\n",
    "    test_fit = topk_fit.loc[[i in test.index for i in topk_fit.index]]\n",
    "    test = test.loc[[i in test_fit.index for i in test.index]]\n",
    "    test_fit.index = test.index\n",
    "    test_fit.columns = test.columns\n",
    "    test_total = pd.DataFrame(test.sum(axis=1))\n",
    "    diff = test - test_fit\n",
    "    diff[diff==-1] = 0\n",
    "    mis = pd.DataFrame(diff.sum(axis=1))\n",
    "    test_final = pd.merge(test_total,mis,on='clnt_id',how='left')\n",
    "    test_final.columns = ['buy','mis']\n",
    "    test_final['correct'] = test_final['buy']-test_final['mis']\n",
    "    test_final['recall'] = 1-(test_final['mis']/test_final['buy'])\n",
    "    test_final['precision'] = test_final['correct']/topk\n",
    "    return(test_final)"
   ]
  },
  {
   "cell_type": "markdown",
   "metadata": {},
   "source": [
    "# Pearson Correlaton"
   ]
  },
  {
   "cell_type": "markdown",
   "metadata": {},
   "source": [
    "## 1) item based "
   ]
  },
  {
   "cell_type": "code",
   "execution_count": null,
   "metadata": {},
   "outputs": [],
   "source": [
    "item_cor = train.corr()\n",
    "item_cor = item_cor.fillna(0)\n",
    "item_cor = np.matrix(item_cor)"
   ]
  },
  {
   "cell_type": "code",
   "execution_count": null,
   "metadata": {},
   "outputs": [],
   "source": [
    "topk = 1\n",
    "fit = item_topk(item_cor,train,topk)\n",
    "fit = pd.DataFrame(fit)\n",
    "fit.index = train.index"
   ]
  },
  {
   "cell_type": "code",
   "execution_count": null,
   "metadata": {},
   "outputs": [],
   "source": [
    "item_cor_fit = test_topk(fit,test,topk)\n",
    "item_cor_fit['recall'].mean()"
   ]
  },
  {
   "cell_type": "code",
   "execution_count": null,
   "metadata": {
    "scrolled": true
   },
   "outputs": [],
   "source": [
    "item_cor_fit['precision'].mean()"
   ]
  },
  {
   "cell_type": "markdown",
   "metadata": {},
   "source": [
    "recall1 : 4.83 / precision1 : 19.68\n",
    "\n",
    "recall5 : 15.04 / precision5 : 14.70\n",
    "\n",
    "recall10 : 21.88 / precision10 : 11.30"
   ]
  },
  {
   "cell_type": "markdown",
   "metadata": {},
   "source": [
    "## 2) user based "
   ]
  },
  {
   "cell_type": "code",
   "execution_count": null,
   "metadata": {},
   "outputs": [],
   "source": [
    "user_cor_beh = np.corrcoef(train.values)"
   ]
  },
  {
   "cell_type": "code",
   "execution_count": null,
   "metadata": {},
   "outputs": [],
   "source": [
    "topk = 10\n",
    "fit = user_topk(user_cor_beh,train,topk)\n",
    "fit = pd.DataFrame(fit)\n",
    "fit.index = train.index"
   ]
  },
  {
   "cell_type": "code",
   "execution_count": null,
   "metadata": {},
   "outputs": [],
   "source": [
    "user_cor_fit = test_topk(fit,test,topk)\n",
    "user_cor_fit['recall'].mean()"
   ]
  },
  {
   "cell_type": "code",
   "execution_count": null,
   "metadata": {},
   "outputs": [],
   "source": [
    "user_cor_fit['precision'].mean()"
   ]
  },
  {
   "cell_type": "markdown",
   "metadata": {},
   "source": [
    "recall1 : 4.04 / precision1 : 16.97\n",
    "\n",
    "recall5 : 13.61 / precision5 : 13.67\n",
    "\n",
    "recall10 : 20.25 / precision10 : 10.37"
   ]
  },
  {
   "cell_type": "markdown",
   "metadata": {},
   "source": [
    "# Cosine similarity "
   ]
  },
  {
   "cell_type": "markdown",
   "metadata": {},
   "source": [
    "# 1) item based"
   ]
  },
  {
   "cell_type": "code",
   "execution_count": null,
   "metadata": {},
   "outputs": [],
   "source": [
    "import numpy as np\n",
    "from sklearn.metrics.pairwise import cosine_similarity\n",
    "\n",
    "item_cos = cosine_similarity(train.T)\n",
    "item_cos = np.matrix(item_cos)"
   ]
  },
  {
   "cell_type": "code",
   "execution_count": null,
   "metadata": {},
   "outputs": [],
   "source": [
    "topk = 10\n",
    "fit = item_topk(item_cos,train,topk)\n",
    "fit = pd.DataFrame(fit)\n",
    "fit.index = train.index"
   ]
  },
  {
   "cell_type": "code",
   "execution_count": null,
   "metadata": {},
   "outputs": [],
   "source": [
    "item_cos_fit = test_topk(fit,test,topk)\n",
    "item_cos_fit['recall'].mean()"
   ]
  },
  {
   "cell_type": "code",
   "execution_count": null,
   "metadata": {},
   "outputs": [],
   "source": [
    "item_cos_fit['precision'].mean()"
   ]
  },
  {
   "cell_type": "markdown",
   "metadata": {},
   "source": [
    "recall1 : 4.33 / precision1 : 18.06\n",
    "\n",
    "recall5 : 14.25 / precision5 : 14.16\n",
    "\n",
    "recall10 : 20.95 / precision10 : 10.94"
   ]
  },
  {
   "cell_type": "markdown",
   "metadata": {},
   "source": [
    "## 2) user behavior based "
   ]
  },
  {
   "cell_type": "code",
   "execution_count": null,
   "metadata": {},
   "outputs": [],
   "source": [
    "import numpy as np\n",
    "from sklearn.metrics.pairwise import cosine_similarity\n",
    "\n",
    "user_cos_beh = cosine_similarity(train)\n",
    "user_cos_beh = np.matrix(user_cos_beh)"
   ]
  },
  {
   "cell_type": "code",
   "execution_count": null,
   "metadata": {},
   "outputs": [],
   "source": [
    "topk = 1\n",
    "fit = user_topk(user_cos_beh,train,topk)\n",
    "fit = pd.DataFrame(fit)\n",
    "fit.index = train.index"
   ]
  },
  {
   "cell_type": "code",
   "execution_count": null,
   "metadata": {},
   "outputs": [],
   "source": [
    "user_cos_fit = test_topk(fit,test,topk)\n",
    "user_cos_fit['recall'].mean()"
   ]
  },
  {
   "cell_type": "code",
   "execution_count": null,
   "metadata": {},
   "outputs": [],
   "source": [
    "user_cos_fit['precision'].mean()"
   ]
  },
  {
   "cell_type": "markdown",
   "metadata": {},
   "source": [
    "recall1 : 3.77 / precision1 : 16.22\n",
    "\n",
    "recall5 : 13.07 / precision5 : 13.62\n",
    "\n",
    "recall10 : 19.64 / precision10 : 10.36"
   ]
  },
  {
   "cell_type": "markdown",
   "metadata": {},
   "source": [
    "# SVD "
   ]
  },
  {
   "cell_type": "code",
   "execution_count": null,
   "metadata": {},
   "outputs": [],
   "source": [
    "U,S,V = np.linalg.svd(train,full_matrices=False)\n",
    "U = pd.DataFrame(U)\n",
    "V = pd.DataFrame(V)"
   ]
  },
  {
   "cell_type": "code",
   "execution_count": null,
   "metadata": {},
   "outputs": [],
   "source": [
    "plt.plot(S[0:100])"
   ]
  },
  {
   "cell_type": "code",
   "execution_count": null,
   "metadata": {},
   "outputs": [],
   "source": [
    "S[0:500].sum()/S.sum()"
   ]
  },
  {
   "cell_type": "code",
   "execution_count": null,
   "metadata": {},
   "outputs": [],
   "source": [
    "svd = U.iloc[:,0:500] @ np.diag(S[0:500]) @ V.iloc[0:500,:]\n",
    "svd.index = train.index\n",
    "svd.columns = train.columns"
   ]
  },
  {
   "cell_type": "code",
   "execution_count": null,
   "metadata": {},
   "outputs": [],
   "source": [
    "svd_sort = np.argsort(np.argsort(-svd,axis=1),axis=1)"
   ]
  },
  {
   "cell_type": "code",
   "execution_count": null,
   "metadata": {},
   "outputs": [],
   "source": [
    "topk = 1\n",
    "fit = (svd_sort <= (topk-1))\n",
    "fit = fit.astype(int)"
   ]
  },
  {
   "cell_type": "code",
   "execution_count": null,
   "metadata": {},
   "outputs": [],
   "source": [
    "svd_fit = test_topk(fit,test,topk)\n",
    "svd_fit['recall'].mean()"
   ]
  },
  {
   "cell_type": "code",
   "execution_count": null,
   "metadata": {},
   "outputs": [],
   "source": [
    "svd_fit['precision'].mean()"
   ]
  },
  {
   "cell_type": "markdown",
   "metadata": {},
   "source": [
    "recall1 : 5.88 / precision1 : 22.13\n",
    "\n",
    "recall5 : 16.16 / precision5 : 14.75\n",
    "\n",
    "recall10 : 23.00 / precision10 : 11.15"
   ]
  }
 ],
 "metadata": {
  "kernelspec": {
   "display_name": "Python 3",
   "language": "python",
   "name": "python3"
  },
  "language_info": {
   "codemirror_mode": {
    "name": "ipython",
    "version": 3
   },
   "file_extension": ".py",
   "mimetype": "text/x-python",
   "name": "python",
   "nbconvert_exporter": "python",
   "pygments_lexer": "ipython3",
   "version": "3.7.6"
  }
 },
 "nbformat": 4,
 "nbformat_minor": 2
}
