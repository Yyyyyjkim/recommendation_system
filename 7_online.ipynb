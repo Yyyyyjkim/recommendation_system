{
 "cells": [
  {
   "cell_type": "code",
   "execution_count": null,
   "metadata": {},
   "outputs": [],
   "source": [
    "import pandas as pd\n",
    "import numpy as np\n",
    "import matplotlib.pyplot as plt\n",
    "import seaborn as sns\n",
    "from datetime import datetime\n",
    "from sklearn.preprocessing import StandardScaler\n",
    "import math"
   ]
  },
  {
   "cell_type": "code",
   "execution_count": null,
   "metadata": {},
   "outputs": [],
   "source": [
    "import warnings\n",
    "warnings.filterwarnings(\"ignore\")"
   ]
  },
  {
   "cell_type": "code",
   "execution_count": null,
   "metadata": {},
   "outputs": [],
   "source": [
    "train = pd.read_pickle(\"../new_data/train_test/online_train.pkl\")\n",
    "test = pd.read_pickle(\"../new_data/train_test/online_test.pkl\")"
   ]
  },
  {
   "cell_type": "code",
   "execution_count": null,
   "metadata": {},
   "outputs": [],
   "source": [
    "def user_topk(user_sim,train,topk):\n",
    "    fit = user_sim @ train\n",
    "    fit_sort = np.argsort(np.argsort(-fit,axis=1),axis=1)\n",
    "    fit_topk = (fit_sort <= (topk-1))\n",
    "    fit_topk = fit_topk.astype(int)\n",
    "    return(fit_topk)"
   ]
  },
  {
   "cell_type": "code",
   "execution_count": null,
   "metadata": {},
   "outputs": [],
   "source": [
    "def item_topk(item_sim,train,topk):\n",
    "    fit = train @ item_sim\n",
    "    fit_sort = np.argsort(np.argsort(-fit,axis=1),axis=1)\n",
    "    fit_topk = (fit_sort <= (topk-1))\n",
    "    fit_topk = fit_topk.astype(int)\n",
    "    return(fit_topk)"
   ]
  },
  {
   "cell_type": "code",
   "execution_count": null,
   "metadata": {},
   "outputs": [],
   "source": [
    "def test_topk(topk_fit,test,topk):\n",
    "    test_fit = topk_fit.loc[[i in test.index for i in topk_fit.index]]\n",
    "    test = test.loc[[i in test_fit.index for i in test.index]]\n",
    "    test_fit.index = test.index\n",
    "    test_fit.columns = test.columns\n",
    "    test_total = pd.DataFrame(test.sum(axis=1))\n",
    "    diff = test - test_fit\n",
    "    diff[diff==-1] = 0\n",
    "    mis = pd.DataFrame(diff.sum(axis=1))\n",
    "    test_final = pd.merge(test_total,mis,on='clnt_id',how='left')\n",
    "    test_final.columns = ['buy','mis']\n",
    "    test_final['correct'] = test_final['buy']-test_final['mis']\n",
    "    test_final['recall'] = 1-(test_final['mis']/test_final['buy'])\n",
    "    test_final['precision'] = test_final['correct']/topk\n",
    "    return(test_final)"
   ]
  },
  {
   "cell_type": "markdown",
   "metadata": {},
   "source": [
    "# Pearson Correlaton"
   ]
  },
  {
   "cell_type": "markdown",
   "metadata": {},
   "source": [
    "## 1) item based "
   ]
  },
  {
   "cell_type": "code",
   "execution_count": null,
   "metadata": {},
   "outputs": [],
   "source": [
    "item_cor = train.corr()\n",
    "item_cor = item_cor.fillna(0)\n",
    "item_cor = np.matrix(item_cor)"
   ]
  },
  {
   "cell_type": "code",
   "execution_count": null,
   "metadata": {},
   "outputs": [],
   "source": [
    "topk = 10\n",
    "fit = item_topk(item_cor,train,topk)\n",
    "fit = pd.DataFrame(fit)\n",
    "fit.index = train.index"
   ]
  },
  {
   "cell_type": "code",
   "execution_count": null,
   "metadata": {},
   "outputs": [],
   "source": [
    "item_cor_fit = test_topk(fit,test,topk)\n",
    "item_cor_fit['recall'].mean()"
   ]
  },
  {
   "cell_type": "code",
   "execution_count": null,
   "metadata": {
    "scrolled": true
   },
   "outputs": [],
   "source": [
    "item_cor_fit['precision'].mean()"
   ]
  },
  {
   "cell_type": "markdown",
   "metadata": {},
   "source": [
    "recall1 : 5.79 / precision1 : 23.51\n",
    "\n",
    "recall5 : 16.14 / precision5 : 17.37\n",
    "\n",
    "recall10 : 23.22 / precision10 : 13.50"
   ]
  },
  {
   "cell_type": "markdown",
   "metadata": {},
   "source": [
    "## 2) user based "
   ]
  },
  {
   "cell_type": "code",
   "execution_count": null,
   "metadata": {},
   "outputs": [],
   "source": [
    "user_cor_beh = np.corrcoef(train.values)"
   ]
  },
  {
   "cell_type": "code",
   "execution_count": null,
   "metadata": {},
   "outputs": [],
   "source": [
    "topk = 10\n",
    "fit = user_topk(user_cor_beh,train,topk)\n",
    "fit = pd.DataFrame(fit)\n",
    "fit.index = train.index"
   ]
  },
  {
   "cell_type": "code",
   "execution_count": null,
   "metadata": {},
   "outputs": [],
   "source": [
    "user_cor_fit = test_topk(fit,test,topk)\n",
    "user_cor_fit['recall'].mean()"
   ]
  },
  {
   "cell_type": "code",
   "execution_count": null,
   "metadata": {},
   "outputs": [],
   "source": [
    "user_cor_fit['precision'].mean()"
   ]
  },
  {
   "cell_type": "markdown",
   "metadata": {},
   "source": [
    "recall1 : 6.00 / precision1 : 25.65\n",
    "\n",
    "recall5 : 15.20 / precision5 : 16.57\n",
    "\n",
    "recall10 : 21.74 / precision10 : 12.11"
   ]
  },
  {
   "cell_type": "markdown",
   "metadata": {},
   "source": [
    "# Cosine similarity "
   ]
  },
  {
   "cell_type": "markdown",
   "metadata": {},
   "source": [
    "# 1) item based"
   ]
  },
  {
   "cell_type": "code",
   "execution_count": null,
   "metadata": {},
   "outputs": [],
   "source": [
    "import numpy as np\n",
    "from sklearn.metrics.pairwise import cosine_similarity\n",
    "\n",
    "item_cos = cosine_similarity(train.T)\n",
    "item_cos = np.matrix(item_cos)"
   ]
  },
  {
   "cell_type": "code",
   "execution_count": null,
   "metadata": {},
   "outputs": [],
   "source": [
    "topk = 1\n",
    "fit = item_topk(item_cos,train,topk)\n",
    "fit = pd.DataFrame(fit)\n",
    "fit.index = train.index"
   ]
  },
  {
   "cell_type": "code",
   "execution_count": null,
   "metadata": {},
   "outputs": [],
   "source": [
    "item_cos_fit = test_topk(fit,test,topk)\n",
    "item_cos_fit['recall'].mean()"
   ]
  },
  {
   "cell_type": "code",
   "execution_count": null,
   "metadata": {},
   "outputs": [],
   "source": [
    "item_cos_fit['precision'].mean()"
   ]
  },
  {
   "cell_type": "markdown",
   "metadata": {},
   "source": [
    "recall1 : 5.73 / precision1 : 23.17\n",
    "\n",
    "recall5 : 15.97 / precision5 : 17.19\n",
    "\n",
    "recall10 : 23.00 / precision10 : 13.35"
   ]
  },
  {
   "cell_type": "markdown",
   "metadata": {},
   "source": [
    "## 2) user behavior based "
   ]
  },
  {
   "cell_type": "code",
   "execution_count": null,
   "metadata": {},
   "outputs": [],
   "source": [
    "import numpy as np\n",
    "from sklearn.metrics.pairwise import cosine_similarity\n",
    "\n",
    "user_cos_beh = cosine_similarity(train)\n",
    "user_cos_beh = np.matrix(user_cos_beh)"
   ]
  },
  {
   "cell_type": "code",
   "execution_count": null,
   "metadata": {},
   "outputs": [],
   "source": [
    "topk = 10\n",
    "fit = user_topk(user_cos_beh,train,topk)\n",
    "fit = pd.DataFrame(fit)\n",
    "fit.index = train.index"
   ]
  },
  {
   "cell_type": "code",
   "execution_count": null,
   "metadata": {},
   "outputs": [],
   "source": [
    "user_cos_fit = test_topk(fit,test,topk)\n",
    "user_cos_fit['recall'].mean()"
   ]
  },
  {
   "cell_type": "code",
   "execution_count": null,
   "metadata": {},
   "outputs": [],
   "source": [
    "user_cos_fit['precision'].mean()"
   ]
  },
  {
   "cell_type": "markdown",
   "metadata": {},
   "source": [
    "recall1 : 5.82 / precision1 : 25.09\n",
    "\n",
    "recall5 : 15.03 / precision5 : 16.53\n",
    "\n",
    "recall10 : 21.20 / precision10 : 12.09"
   ]
  },
  {
   "cell_type": "markdown",
   "metadata": {},
   "source": [
    "# SVD "
   ]
  },
  {
   "cell_type": "code",
   "execution_count": null,
   "metadata": {},
   "outputs": [],
   "source": [
    "U,S,V = np.linalg.svd(train,full_matrices=False)\n",
    "U = pd.DataFrame(U)\n",
    "V = pd.DataFrame(V)"
   ]
  },
  {
   "cell_type": "code",
   "execution_count": null,
   "metadata": {},
   "outputs": [],
   "source": [
    "plt.plot(S[0:100])"
   ]
  },
  {
   "cell_type": "code",
   "execution_count": null,
   "metadata": {},
   "outputs": [],
   "source": [
    "S[0:500].sum()/S.sum()"
   ]
  },
  {
   "cell_type": "code",
   "execution_count": null,
   "metadata": {},
   "outputs": [],
   "source": [
    "svd = U.iloc[:,0:500] @ np.diag(S[0:500]) @ V.iloc[0:500,:]\n",
    "svd.index = train.index\n",
    "svd.columns = train.columns"
   ]
  },
  {
   "cell_type": "code",
   "execution_count": null,
   "metadata": {},
   "outputs": [],
   "source": [
    "svd_sort = np.argsort(np.argsort(-svd,axis=1),axis=1)"
   ]
  },
  {
   "cell_type": "code",
   "execution_count": null,
   "metadata": {},
   "outputs": [],
   "source": [
    "topk = 1\n",
    "fit = (svd_sort <= (topk-1))\n",
    "fit = fit.astype(int)"
   ]
  },
  {
   "cell_type": "code",
   "execution_count": null,
   "metadata": {},
   "outputs": [],
   "source": [
    "svd_fit = test_topk(fit,test,topk)\n",
    "svd_fit['recall'].mean()"
   ]
  },
  {
   "cell_type": "code",
   "execution_count": null,
   "metadata": {},
   "outputs": [],
   "source": [
    "svd_fit['precision'].mean()"
   ]
  },
  {
   "cell_type": "markdown",
   "metadata": {},
   "source": [
    "recall1 : 6.69 / precision1 : 26.95\n",
    "\n",
    "recall5 : 16.87 / precision5 : 17.26\n",
    "\n",
    "recall10 : 23.31 / precision10 : 13.01"
   ]
  },
  {
   "cell_type": "code",
   "execution_count": null,
   "metadata": {},
   "outputs": [],
   "source": [
    "online_score = pd.read_pickle(\"../new_data/factor_score/online_score.pkl\")"
   ]
  },
  {
   "cell_type": "code",
   "execution_count": null,
   "metadata": {},
   "outputs": [],
   "source": [
    "online_type = np.argsort(np.argsort(online_score))\n",
    "online_type = online_type.applymap(lambda x : 1 if x == 4 else 0)"
   ]
  },
  {
   "cell_type": "code",
   "execution_count": null,
   "metadata": {},
   "outputs": [],
   "source": [
    "online_type = pd.merge(svd_fit,online_type,on='clnt_id',how='left')"
   ]
  },
  {
   "cell_type": "code",
   "execution_count": null,
   "metadata": {},
   "outputs": [],
   "source": [
    "online_type[['online1','online2','online3','online4','online5']].sum()"
   ]
  },
  {
   "cell_type": "code",
   "execution_count": null,
   "metadata": {},
   "outputs": [],
   "source": [
    "online_type.loc[online_type['online1']==1]['recall'].mean()"
   ]
  },
  {
   "cell_type": "code",
   "execution_count": null,
   "metadata": {},
   "outputs": [],
   "source": [
    "online_type.loc[online_type['online2']==1]['recall'].mean()"
   ]
  },
  {
   "cell_type": "code",
   "execution_count": null,
   "metadata": {},
   "outputs": [],
   "source": [
    "online_type.loc[online_type['online3']==1]['recall'].mean()"
   ]
  },
  {
   "cell_type": "code",
   "execution_count": null,
   "metadata": {
    "scrolled": true
   },
   "outputs": [],
   "source": [
    "online_type.loc[online_type['online4']==1]['recall'].mean()"
   ]
  },
  {
   "cell_type": "code",
   "execution_count": null,
   "metadata": {},
   "outputs": [],
   "source": [
    "online_type.loc[online_type['online5']==1]['recall'].mean()"
   ]
  }
 ],
 "metadata": {
  "kernelspec": {
   "display_name": "Python 3",
   "language": "python",
   "name": "python3"
  },
  "language_info": {
   "codemirror_mode": {
    "name": "ipython",
    "version": 3
   },
   "file_extension": ".py",
   "mimetype": "text/x-python",
   "name": "python",
   "nbconvert_exporter": "python",
   "pygments_lexer": "ipython3",
   "version": "3.7.6"
  }
 },
 "nbformat": 4,
 "nbformat_minor": 2
}
