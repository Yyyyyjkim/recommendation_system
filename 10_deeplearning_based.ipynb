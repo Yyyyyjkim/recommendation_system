{
 "cells": [
  {
   "cell_type": "markdown",
   "metadata": {
    "colab_type": "text",
    "id": "9MkCMPIBdd38"
   },
   "source": [
    "# Model"
   ]
  },
  {
   "cell_type": "code",
   "execution_count": 0,
   "metadata": {
    "colab": {
     "base_uri": "https://localhost:8080/",
     "height": 52
    },
    "colab_type": "code",
    "id": "EvFS915kdsQj",
    "outputId": "54664148-f1cd-41ed-9ef8-5650fa676483"
   },
   "outputs": [
    {
     "name": "stdout",
     "output_type": "stream",
     "text": [
      "2.0.0\n",
      "True\n"
     ]
    }
   ],
   "source": [
    "import pandas as pd\n",
    "import numpy as np\n",
    "import tensorflow as tf\n",
    "\n",
    "print(tf.__version__)\n",
    "print(tf.test.is_gpu_available())"
   ]
  },
  {
   "cell_type": "markdown",
   "metadata": {
    "colab_type": "text",
    "id": "n7Msr-wNePbU"
   },
   "source": [
    "## 2. Data"
   ]
  },
  {
   "cell_type": "code",
   "execution_count": 0,
   "metadata": {
    "colab": {},
    "colab_type": "code",
    "id": "TFYmGjRJebeK"
   },
   "outputs": [],
   "source": [
    "transaction = pd.read_csv('../data/transaction.csv',dtype=str)"
   ]
  },
  {
   "cell_type": "code",
   "execution_count": 0,
   "metadata": {
    "colab": {},
    "colab_type": "code",
    "id": "ZcGjjmKHejB3"
   },
   "outputs": [],
   "source": [
    "transaction.sort_values(['clnt_id', 'trans_id', 'trans_seq'], inplace=True)\n",
    "transaction = transaction.loc[transaction['pd_c'] != 'unknown']\n",
    "transaction['pd_c'] = transaction['pd_c'].astype(int)\n",
    "transaction[['buy_am', 'buy_ct']] = transaction[['buy_am', 'buy_ct']].astype(int)\n",
    "transaction = transaction.loc[(transaction['buy_am'] > 0) & (transaction['buy_ct'] > 0)]\n",
    "transaction['biz_unit'] = transaction['biz_unit'].apply(lambda x : x[0])"
   ]
  },
  {
   "cell_type": "code",
   "execution_count": 0,
   "metadata": {
    "colab": {
     "base_uri": "https://localhost:8080/",
     "height": 195
    },
    "colab_type": "code",
    "id": "BCaoI3g1eglY",
    "outputId": "1e6dedf1-e5a1-49a9-a814-9b8248827536"
   },
   "outputs": [
    {
     "data": {
      "text/html": [
       "<div>\n",
       "<style scoped>\n",
       "    .dataframe tbody tr th:only-of-type {\n",
       "        vertical-align: middle;\n",
       "    }\n",
       "\n",
       "    .dataframe tbody tr th {\n",
       "        vertical-align: top;\n",
       "    }\n",
       "\n",
       "    .dataframe thead th {\n",
       "        text-align: right;\n",
       "    }\n",
       "</style>\n",
       "<table border=\"1\" class=\"dataframe\">\n",
       "  <thead>\n",
       "    <tr style=\"text-align: right;\">\n",
       "      <th></th>\n",
       "      <th>clnt_id</th>\n",
       "      <th>trans_id</th>\n",
       "      <th>trans_seq</th>\n",
       "      <th>biz_unit</th>\n",
       "      <th>pd_c</th>\n",
       "      <th>de_dt</th>\n",
       "      <th>de_tm</th>\n",
       "      <th>buy_am</th>\n",
       "      <th>buy_ct</th>\n",
       "    </tr>\n",
       "  </thead>\n",
       "  <tbody>\n",
       "    <tr>\n",
       "      <th>583390</th>\n",
       "      <td>00002</td>\n",
       "      <td>042449</td>\n",
       "      <td>001</td>\n",
       "      <td>A02</td>\n",
       "      <td>1015</td>\n",
       "      <td>20190704</td>\n",
       "      <td>15:34</td>\n",
       "      <td>46430</td>\n",
       "      <td>1</td>\n",
       "    </tr>\n",
       "    <tr>\n",
       "      <th>114604</th>\n",
       "      <td>00002</td>\n",
       "      <td>062037</td>\n",
       "      <td>001</td>\n",
       "      <td>A03</td>\n",
       "      <td>92</td>\n",
       "      <td>20190729</td>\n",
       "      <td>23:47</td>\n",
       "      <td>36000</td>\n",
       "      <td>20</td>\n",
       "    </tr>\n",
       "    <tr>\n",
       "      <th>118652</th>\n",
       "      <td>00002</td>\n",
       "      <td>064691</td>\n",
       "      <td>001</td>\n",
       "      <td>A03</td>\n",
       "      <td>186</td>\n",
       "      <td>20190731</td>\n",
       "      <td>21:25</td>\n",
       "      <td>3790</td>\n",
       "      <td>1</td>\n",
       "    </tr>\n",
       "    <tr>\n",
       "      <th>107209</th>\n",
       "      <td>00002</td>\n",
       "      <td>064691</td>\n",
       "      <td>002</td>\n",
       "      <td>A03</td>\n",
       "      <td>151</td>\n",
       "      <td>20190731</td>\n",
       "      <td>21:25</td>\n",
       "      <td>3990</td>\n",
       "      <td>1</td>\n",
       "    </tr>\n",
       "    <tr>\n",
       "      <th>113315</th>\n",
       "      <td>00002</td>\n",
       "      <td>064691</td>\n",
       "      <td>003</td>\n",
       "      <td>A03</td>\n",
       "      <td>351</td>\n",
       "      <td>20190731</td>\n",
       "      <td>21:25</td>\n",
       "      <td>4690</td>\n",
       "      <td>1</td>\n",
       "    </tr>\n",
       "  </tbody>\n",
       "</table>\n",
       "</div>"
      ],
      "text/plain": [
       "       clnt_id trans_id trans_seq biz_unit  ...     de_dt  de_tm buy_am  buy_ct\n",
       "583390   00002   042449       001      A02  ...  20190704  15:34  46430       1\n",
       "114604   00002   062037       001      A03  ...  20190729  23:47  36000      20\n",
       "118652   00002   064691       001      A03  ...  20190731  21:25   3790       1\n",
       "107209   00002   064691       002      A03  ...  20190731  21:25   3990       1\n",
       "113315   00002   064691       003      A03  ...  20190731  21:25   4690       1\n",
       "\n",
       "[5 rows x 9 columns]"
      ]
     },
     "execution_count": 8,
     "metadata": {
      "tags": []
     },
     "output_type": "execute_result"
    }
   ],
   "source": [
    "transaction.head()"
   ]
  },
  {
   "cell_type": "code",
   "execution_count": 0,
   "metadata": {
    "colab": {},
    "colab_type": "code",
    "id": "9_N0F5Xder5G"
   },
   "outputs": [],
   "source": [
    "split_date = '20190915'\n",
    "train = transaction.loc[transaction['de_dt'] < split_date]\n",
    "test = transaction.loc[transaction['de_dt'] >= split_date]"
   ]
  },
  {
   "cell_type": "code",
   "execution_count": 0,
   "metadata": {
    "colab": {},
    "colab_type": "code",
    "id": "e7usvcAfg3Rg"
   },
   "outputs": [],
   "source": [
    "train_online = train.loc[train['biz_unit'] == 'A']\n",
    "train_offline = train.loc[train['biz_unit'] == 'B']\n",
    "test_online = test.loc[test['biz_unit'] == 'A']\n",
    "test_offline = test.loc[test['biz_unit'] == 'B']"
   ]
  },
  {
   "cell_type": "markdown",
   "metadata": {
    "colab_type": "text",
    "id": "di1zx9MmfeNO"
   },
   "source": [
    "## 3. Sequential Model"
   ]
  },
  {
   "cell_type": "code",
   "execution_count": 0,
   "metadata": {
    "colab": {},
    "colab_type": "code",
    "id": "91n8LACGhVSj"
   },
   "outputs": [],
   "source": [
    "def prep(data, train):\n",
    "    data = data.groupby(['clnt_id', 'trans_id'])['pd_c'].apply(list).reset_index()\n",
    "    data = data.groupby('clnt_id')['pd_c'].apply(list).reset_index()\n",
    "    \n",
    "    if train == 'train':\n",
    "        data = data.loc[data['pd_c'].apply(len) > 1]\n",
    "    else:\n",
    "        data['pd_c'] = data['pd_c'].apply(lambda x : list(set(x[0])))\n",
    "    return data"
   ]
  },
  {
   "cell_type": "code",
   "execution_count": 0,
   "metadata": {
    "colab": {},
    "colab_type": "code",
    "id": "rVucSFLrhlVE"
   },
   "outputs": [],
   "source": [
    "train_online = prep(train_online, 'train')\n",
    "train_offline = prep(train_offline, 'train')\n",
    "test_online = prep(test_online, 'test')\n",
    "test_offline = prep(test_offline, 'test')"
   ]
  },
  {
   "cell_type": "code",
   "execution_count": 0,
   "metadata": {
    "colab": {},
    "colab_type": "code",
    "id": "m02xk7OUfmQw"
   },
   "outputs": [],
   "source": [
    "def prep_batch(batch, maxlen):\n",
    "    batch = [[np.random.choice(s, len(s), replace=False) for s in t] for t in batch]\n",
    "    batch = [np.concatenate(t)[-maxlen:] for t in batch]\n",
    "    x = [t[:-1] for t in batch]\n",
    "    x = np.array([np.pad(t, (maxlen-len(t), 0), 'constant') for t in x])\n",
    "    y = np.array([np.pad(t, (maxlen-len(t), 0), 'constant') for t in batch])\n",
    "    return x, y\n",
    "\n",
    "def build_generator(data, maxlen, batch_size):\n",
    "    while True:\n",
    "        batch_idx = np.random.randint(low=0, high=len(data), size=batch_size)\n",
    "        batch = data.iloc[batch_idx]['pd_c']\n",
    "        x, y = prep_batch(batch, maxlen)\n",
    "        yield x, y"
   ]
  },
  {
   "cell_type": "code",
   "execution_count": 0,
   "metadata": {
    "colab": {
     "base_uri": "https://localhost:8080/",
     "height": 228
    },
    "colab_type": "code",
    "id": "jAmazQIJhpGt",
    "outputId": "5fe826e9-2242-47c0-9b26-7c907349d8e0"
   },
   "outputs": [
    {
     "data": {
      "text/plain": [
       "3      421\n",
       "5      403\n",
       "4      366\n",
       "2      349\n",
       "6      342\n",
       "      ... \n",
       "108      1\n",
       "92       1\n",
       "76       1\n",
       "139      1\n",
       "189      1\n",
       "Name: pd_c, Length: 92, dtype: int64"
      ]
     },
     "execution_count": 45,
     "metadata": {
      "tags": []
     },
     "output_type": "execute_result"
    }
   ],
   "source": [
    "# test clnt의 train 기간 구매 횟수\n",
    "train_num = train.loc[[i in test['clnt_id'].tolist() for i in train['clnt_id']], 'pd_c'].apply(len)\n",
    "train_num = train_num.value_counts()\n",
    "train_num.sort_values(ascending=False)"
   ]
  },
  {
   "cell_type": "markdown",
   "metadata": {
    "colab_type": "text",
    "id": "KmS3vUlcgVyj"
   },
   "source": [
    "### Network"
   ]
  },
  {
   "cell_type": "code",
   "execution_count": 0,
   "metadata": {
    "colab": {},
    "colab_type": "code",
    "id": "Pskg6cjQkPTE"
   },
   "outputs": [],
   "source": [
    "def build_network(config, model):\n",
    "    inputs = tf.keras.layers.Input((config['maxlen'],))\n",
    "    x = tf.keras.layers.Embedding(config['n_item'], config['d_model'], input_length=config['maxlen'])(inputs)\n",
    "    \n",
    "    for _ in range(config['n_layer']):\n",
    "        if model == 'rnn':\n",
    "            x = tf.keras.layers.SimpleRNN(config['d_model'], return_sequences=True)(x)\n",
    "        elif model == 'lstm':\n",
    "            x = tf.keras.layers.LSTM(config['d_model'], return_sequences=True)(x)\n",
    "        elif model == 'gru':\n",
    "            x = tf.keras.layers.GRU(config['d_model'], return_sequences=True)(x)\n",
    "        elif model == 'transformer':\n",
    "            look_ahead_mask = make_look_ahead_mask(config['maxlen'])\n",
    "            x = Transformer(2, config['d_model'], 128, 0.2)(x, look_ahead_mask)\n",
    "\n",
    "    outputs = tf.keras.layers.Dense(config['n_item'], activation='softmax')(x)\n",
    "    network = tf.keras.Model(inputs, outputs)\n",
    "    \n",
    "    network.compile(\n",
    "        loss = 'sparse_categorical_crossentropy',\n",
    "        optimizer = 'adam',\n",
    "        metrics = ['accuracy']\n",
    "    )\n",
    "    print(network.summary())\n",
    "    return network"
   ]
  },
  {
   "cell_type": "code",
   "execution_count": 0,
   "metadata": {
    "colab": {},
    "colab_type": "code",
    "id": "VDw2DQ4VrLCv"
   },
   "outputs": [],
   "source": [
    "def train(data, model, config):\n",
    "    gen = build_generator(data, config['maxlen'], config['batch_size'])\n",
    "    net = build_network(config, model)\n",
    "    net.fit_generator(\n",
    "        gen,\n",
    "        epochs = 10,\n",
    "        steps_per_epoch = data.shape[0] // config['batch_size']\n",
    "    )\n",
    "    return net\n",
    "\n",
    "def get_recall_n(y_test, rank, n=10):\n",
    "    recall_n = []\n",
    "    for i in range(len(y_test)):\n",
    "        recall_tmp = np.mean([rank[i][j] <= n for j in y_test[i]])\n",
    "        recall_n.append(recall_tmp)\n",
    "    recall_n = np.mean(recall_n)\n",
    "    recall_n = round(recall_n, 3)\n",
    "    return recall_n\n",
    "\n",
    "def evaluate(network, train, test, maxlen):\n",
    "    data = pd.merge(test, train, how='left', on='clnt_id', suffixes=['_test', '_train'])\n",
    "    data.dropna(inplace=True)\n",
    "\n",
    "    x = data['pd_c_train']\n",
    "    x = [[np.random.choice(s, len(s), replace=False) for s in t] for t in x]\n",
    "    x = [np.concatenate(t)[-maxlen:] for t in x]\n",
    "    x = np.array([np.pad(t, (maxlen-len(t), 0), 'constant') for t in x])\n",
    "    y = data['pd_c_test'].tolist()\n",
    "\n",
    "    pred = network.predict(x)\n",
    "    pred = pred[:,-1,:]\n",
    "    rank = (-pred).argsort().argsort() + 1\n",
    "    \n",
    "    recall = []\n",
    "    for i in [1, 5, 10]:\n",
    "        recall.append(get_recall_n(y, rank, i))\n",
    "    print(f'rec@1 : {recall[0]} / rec@5 : {recall[1]} / rec@10 : {recall[2]}')"
   ]
  },
  {
   "cell_type": "code",
   "execution_count": 0,
   "metadata": {
    "colab": {},
    "colab_type": "code",
    "id": "Bms54Kd1lQgP"
   },
   "outputs": [],
   "source": [
    "config = {\n",
    "    'batch_size' : 32,\n",
    "    'maxlen' : 100,\n",
    "    'n_item' : 1669,\n",
    "    'd_model' : 32,\n",
    "    'n_layer' : 2\n",
    "}"
   ]
  },
  {
   "cell_type": "code",
   "execution_count": 0,
   "metadata": {
    "colab": {
     "base_uri": "https://localhost:8080/",
     "height": 703
    },
    "colab_type": "code",
    "id": "zjA0TuurmCMx",
    "outputId": "474cee1b-de06-47b0-e3fe-11026f563259"
   },
   "outputs": [
    {
     "name": "stdout",
     "output_type": "stream",
     "text": [
      "Model: \"model_2\"\n",
      "_________________________________________________________________\n",
      "Layer (type)                 Output Shape              Param #   \n",
      "=================================================================\n",
      "input_3 (InputLayer)         [(None, 100)]             0         \n",
      "_________________________________________________________________\n",
      "embedding_2 (Embedding)      (None, 100, 32)           53408     \n",
      "_________________________________________________________________\n",
      "simple_rnn_4 (SimpleRNN)     (None, 100, 32)           2080      \n",
      "_________________________________________________________________\n",
      "simple_rnn_5 (SimpleRNN)     (None, 100, 32)           2080      \n",
      "_________________________________________________________________\n",
      "dense_2 (Dense)              (None, 100, 1669)         55077     \n",
      "=================================================================\n",
      "Total params: 112,645\n",
      "Trainable params: 112,645\n",
      "Non-trainable params: 0\n",
      "_________________________________________________________________\n",
      "None\n",
      "Epoch 1/10\n",
      "195/195 [==============================] - 41s 209ms/step - loss: 3.4512 - accuracy: 0.7259\n",
      "Epoch 2/10\n",
      "195/195 [==============================] - 42s 217ms/step - loss: 2.0017 - accuracy: 0.7459\n",
      "Epoch 3/10\n",
      "195/195 [==============================] - 42s 214ms/step - loss: 1.6085 - accuracy: 0.7509\n",
      "Epoch 4/10\n",
      "195/195 [==============================] - 41s 212ms/step - loss: 1.4818 - accuracy: 0.7468\n",
      "Epoch 5/10\n",
      "195/195 [==============================] - 42s 213ms/step - loss: 1.4392 - accuracy: 0.7542\n",
      "Epoch 6/10\n",
      "195/195 [==============================] - 41s 212ms/step - loss: 1.4200 - accuracy: 0.7560\n",
      "Epoch 7/10\n",
      "195/195 [==============================] - 42s 213ms/step - loss: 1.4295 - accuracy: 0.7526\n",
      "Epoch 8/10\n",
      "195/195 [==============================] - 41s 212ms/step - loss: 1.4089 - accuracy: 0.7555\n",
      "Epoch 9/10\n",
      "195/195 [==============================] - 41s 213ms/step - loss: 1.4460 - accuracy: 0.7482\n",
      "Epoch 10/10\n",
      "195/195 [==============================] - 42s 214ms/step - loss: 1.4070 - accuracy: 0.7550\n"
     ]
    }
   ],
   "source": [
    "rnn_online = train(train_online, 'rnn', config)"
   ]
  },
  {
   "cell_type": "code",
   "execution_count": 0,
   "metadata": {
    "colab": {
     "base_uri": "https://localhost:8080/",
     "height": 34
    },
    "colab_type": "code",
    "id": "PRDGk9TyuMqX",
    "outputId": "64d1c3b2-0fdd-4740-a94f-a0872fe4cc30"
   },
   "outputs": [
    {
     "name": "stdout",
     "output_type": "stream",
     "text": [
      "rec@1 : 0.026 / rec@5 : 0.124 / rec@10 : 0.186\n"
     ]
    }
   ],
   "source": [
    "evaluate(rnn_online, train_online, test_online, config['maxlen'])"
   ]
  },
  {
   "cell_type": "code",
   "execution_count": 0,
   "metadata": {
    "colab": {
     "base_uri": "https://localhost:8080/",
     "height": 703
    },
    "colab_type": "code",
    "id": "WZDDj3D3nPLL",
    "outputId": "2f32b96c-4d4f-4d09-e29c-dc300af6ea55"
   },
   "outputs": [
    {
     "name": "stdout",
     "output_type": "stream",
     "text": [
      "Model: \"model_3\"\n",
      "_________________________________________________________________\n",
      "Layer (type)                 Output Shape              Param #   \n",
      "=================================================================\n",
      "input_4 (InputLayer)         [(None, 100)]             0         \n",
      "_________________________________________________________________\n",
      "embedding_3 (Embedding)      (None, 100, 32)           53408     \n",
      "_________________________________________________________________\n",
      "simple_rnn_6 (SimpleRNN)     (None, 100, 32)           2080      \n",
      "_________________________________________________________________\n",
      "simple_rnn_7 (SimpleRNN)     (None, 100, 32)           2080      \n",
      "_________________________________________________________________\n",
      "dense_3 (Dense)              (None, 100, 1669)         55077     \n",
      "=================================================================\n",
      "Total params: 112,645\n",
      "Trainable params: 112,645\n",
      "Non-trainable params: 0\n",
      "_________________________________________________________________\n",
      "None\n",
      "Epoch 1/10\n",
      "177/177 [==============================] - 40s 224ms/step - loss: 4.4568 - accuracy: 0.4989\n",
      "Epoch 2/10\n",
      "177/177 [==============================] - 39s 222ms/step - loss: 3.0853 - accuracy: 0.5649\n",
      "Epoch 3/10\n",
      "177/177 [==============================] - 39s 220ms/step - loss: 2.6139 - accuracy: 0.5691\n",
      "Epoch 4/10\n",
      "177/177 [==============================] - 39s 223ms/step - loss: 2.5991 - accuracy: 0.5709\n",
      "Epoch 5/10\n",
      "177/177 [==============================] - 39s 221ms/step - loss: 2.5276 - accuracy: 0.5798\n",
      "Epoch 6/10\n",
      "177/177 [==============================] - 39s 220ms/step - loss: 2.5297 - accuracy: 0.5787\n",
      "Epoch 7/10\n",
      "177/177 [==============================] - 39s 222ms/step - loss: 2.5203 - accuracy: 0.5782\n",
      "Epoch 8/10\n",
      "177/177 [==============================] - 39s 220ms/step - loss: 2.5602 - accuracy: 0.5716\n",
      "Epoch 9/10\n",
      "177/177 [==============================] - 39s 220ms/step - loss: 2.5210 - accuracy: 0.5771\n",
      "Epoch 10/10\n",
      "177/177 [==============================] - 39s 219ms/step - loss: 2.4583 - accuracy: 0.5877\n"
     ]
    }
   ],
   "source": [
    "rnn_offline = train(train_offline, 'rnn', config)"
   ]
  },
  {
   "cell_type": "code",
   "execution_count": 0,
   "metadata": {
    "colab": {
     "base_uri": "https://localhost:8080/",
     "height": 34
    },
    "colab_type": "code",
    "id": "ziucIGtenSeZ",
    "outputId": "7e63aaf6-00c8-40ec-d2d8-e3f0ed398bdb"
   },
   "outputs": [
    {
     "name": "stdout",
     "output_type": "stream",
     "text": [
      "rec@1 : 0.027 / rec@5 : 0.12 / rec@10 : 0.196\n"
     ]
    }
   ],
   "source": [
    "evaluate(rnn_offline, train_offline, test_offline, config['maxlen'])"
   ]
  },
  {
   "cell_type": "code",
   "execution_count": 0,
   "metadata": {
    "colab": {
     "base_uri": "https://localhost:8080/",
     "height": 703
    },
    "colab_type": "code",
    "id": "SCniLUXznVP-",
    "outputId": "48bf35d0-40c0-47d6-f900-e84322b889ad"
   },
   "outputs": [
    {
     "name": "stdout",
     "output_type": "stream",
     "text": [
      "Model: \"model_4\"\n",
      "_________________________________________________________________\n",
      "Layer (type)                 Output Shape              Param #   \n",
      "=================================================================\n",
      "input_5 (InputLayer)         [(None, 100)]             0         \n",
      "_________________________________________________________________\n",
      "embedding_4 (Embedding)      (None, 100, 32)           53408     \n",
      "_________________________________________________________________\n",
      "gru (GRU)                    (None, 100, 32)           6336      \n",
      "_________________________________________________________________\n",
      "gru_1 (GRU)                  (None, 100, 32)           6336      \n",
      "_________________________________________________________________\n",
      "dense_4 (Dense)              (None, 100, 1669)         55077     \n",
      "=================================================================\n",
      "Total params: 121,157\n",
      "Trainable params: 121,157\n",
      "Non-trainable params: 0\n",
      "_________________________________________________________________\n",
      "None\n",
      "Epoch 1/10\n",
      "195/195 [==============================] - 15s 79ms/step - loss: 3.4514 - accuracy: 0.7354\n",
      "Epoch 2/10\n",
      "195/195 [==============================] - 12s 63ms/step - loss: 1.9924 - accuracy: 0.7469\n",
      "Epoch 3/10\n",
      "195/195 [==============================] - 12s 62ms/step - loss: 1.9474 - accuracy: 0.7510\n",
      "Epoch 4/10\n",
      "195/195 [==============================] - 10s 53ms/step - loss: 1.9681 - accuracy: 0.7477\n",
      "Epoch 5/10\n",
      "195/195 [==============================] - 10s 53ms/step - loss: 1.9282 - accuracy: 0.7532\n",
      "Epoch 6/10\n",
      "195/195 [==============================] - 10s 53ms/step - loss: 1.5565 - accuracy: 0.7518\n",
      "Epoch 7/10\n",
      "195/195 [==============================] - 10s 53ms/step - loss: 1.4536 - accuracy: 0.7548\n",
      "Epoch 8/10\n",
      "195/195 [==============================] - 10s 53ms/step - loss: 1.4798 - accuracy: 0.7465\n",
      "Epoch 9/10\n",
      "195/195 [==============================] - 10s 53ms/step - loss: 1.4175 - accuracy: 0.7554\n",
      "Epoch 10/10\n",
      "195/195 [==============================] - 10s 53ms/step - loss: 1.4307 - accuracy: 0.7518\n"
     ]
    }
   ],
   "source": [
    "gru_online = train(train_online, 'gru', config)"
   ]
  },
  {
   "cell_type": "code",
   "execution_count": 0,
   "metadata": {
    "colab": {
     "base_uri": "https://localhost:8080/",
     "height": 34
    },
    "colab_type": "code",
    "id": "nsno5ehPnbej",
    "outputId": "fad8a6e5-d8ff-408a-fbb4-bbb8a3772112"
   },
   "outputs": [
    {
     "name": "stdout",
     "output_type": "stream",
     "text": [
      "rec@1 : 0.022 / rec@5 : 0.109 / rec@10 : 0.177\n"
     ]
    }
   ],
   "source": [
    "evaluate(gru_online, train_online, test_online, config['maxlen'])"
   ]
  },
  {
   "cell_type": "code",
   "execution_count": 0,
   "metadata": {
    "colab": {
     "base_uri": "https://localhost:8080/",
     "height": 703
    },
    "colab_type": "code",
    "id": "T5cCBZkJnZUv",
    "outputId": "aaa93bab-0357-4b0e-f194-62138b711ba7"
   },
   "outputs": [
    {
     "name": "stdout",
     "output_type": "stream",
     "text": [
      "Model: \"model_5\"\n",
      "_________________________________________________________________\n",
      "Layer (type)                 Output Shape              Param #   \n",
      "=================================================================\n",
      "input_6 (InputLayer)         [(None, 100)]             0         \n",
      "_________________________________________________________________\n",
      "embedding_5 (Embedding)      (None, 100, 32)           53408     \n",
      "_________________________________________________________________\n",
      "gru_2 (GRU)                  (None, 100, 32)           6336      \n",
      "_________________________________________________________________\n",
      "gru_3 (GRU)                  (None, 100, 32)           6336      \n",
      "_________________________________________________________________\n",
      "dense_5 (Dense)              (None, 100, 1669)         55077     \n",
      "=================================================================\n",
      "Total params: 121,157\n",
      "Trainable params: 121,157\n",
      "Non-trainable params: 0\n",
      "_________________________________________________________________\n",
      "None\n",
      "Epoch 1/10\n",
      "177/177 [==============================] - 14s 77ms/step - loss: 4.3494 - accuracy: 0.5593\n",
      "Epoch 2/10\n",
      "177/177 [==============================] - 12s 70ms/step - loss: 3.2200 - accuracy: 0.5622\n",
      "Epoch 3/10\n",
      "177/177 [==============================] - 13s 73ms/step - loss: 3.2064 - accuracy: 0.5622\n",
      "Epoch 4/10\n",
      "177/177 [==============================] - 13s 76ms/step - loss: 2.7806 - accuracy: 0.5672\n",
      "Epoch 5/10\n",
      "177/177 [==============================] - 13s 76ms/step - loss: 2.5741 - accuracy: 0.5715\n",
      "Epoch 6/10\n",
      "177/177 [==============================] - 14s 77ms/step - loss: 2.5285 - accuracy: 0.5803\n",
      "Epoch 7/10\n",
      "177/177 [==============================] - 14s 77ms/step - loss: 2.5051 - accuracy: 0.5830\n",
      "Epoch 8/10\n",
      "177/177 [==============================] - 14s 77ms/step - loss: 2.5283 - accuracy: 0.5772\n",
      "Epoch 9/10\n",
      "177/177 [==============================] - 14s 77ms/step - loss: 2.5247 - accuracy: 0.5763\n",
      "Epoch 10/10\n",
      "177/177 [==============================] - 13s 75ms/step - loss: 2.5088 - accuracy: 0.5788\n"
     ]
    }
   ],
   "source": [
    "gru_offline = train(train_offline, 'gru', config)"
   ]
  },
  {
   "cell_type": "code",
   "execution_count": 0,
   "metadata": {
    "colab": {
     "base_uri": "https://localhost:8080/",
     "height": 34
    },
    "colab_type": "code",
    "id": "IgT6Q5Pyng2J",
    "outputId": "2378b8e9-1160-4d45-d6f6-180c859c73dc"
   },
   "outputs": [
    {
     "name": "stdout",
     "output_type": "stream",
     "text": [
      "rec@1 : 0.03 / rec@5 : 0.126 / rec@10 : 0.209\n"
     ]
    }
   ],
   "source": [
    "evaluate(gru_offline, train_offline, test_offline, config['maxlen'])"
   ]
  }
 ],
 "metadata": {
  "accelerator": "GPU",
  "colab": {
   "collapsed_sections": [
    "1Wvviqm_7q5V"
   ],
   "name": "model.ipynb의 사본",
   "provenance": [],
   "toc_visible": true
  },
  "kernelspec": {
   "display_name": "Python 3",
   "language": "python",
   "name": "python3"
  },
  "language_info": {
   "codemirror_mode": {
    "name": "ipython",
    "version": 3
   },
   "file_extension": ".py",
   "mimetype": "text/x-python",
   "name": "python",
   "nbconvert_exporter": "python",
   "pygments_lexer": "ipython3",
   "version": "3.6.5"
  }
 },
 "nbformat": 4,
 "nbformat_minor": 1
}
