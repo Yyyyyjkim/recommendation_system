{
 "cells": [
  {
   "cell_type": "code",
   "execution_count": null,
   "metadata": {},
   "outputs": [],
   "source": [
    "import pandas as pd\n",
    "import numpy as np\n",
    "import matplotlib.pyplot as plt\n",
    "import seaborn as sns\n",
    "from datetime import datetime\n",
    "from sklearn.preprocessing import StandardScaler\n",
    "import math"
   ]
  },
  {
   "cell_type": "code",
   "execution_count": null,
   "metadata": {},
   "outputs": [],
   "source": [
    "import warnings\n",
    "warnings.filterwarnings(\"ignore\")"
   ]
  },
  {
   "cell_type": "code",
   "execution_count": null,
   "metadata": {},
   "outputs": [],
   "source": [
    "customer = pd.read_pickle(\"../new_data/data_set/customer.pkl\")\n",
    "online = pd.read_pickle(\"../new_data/data_set/online.pkl\")\n",
    "product = pd.read_pickle(\"../new_data/data_set/product.pkl\")\n",
    "transaction = pd.read_pickle(\"../new_data/data_set/transaction.pkl\")\n",
    "clac = pd.read_pickle(\"../new_data/data_set/offline_clac.pkl\")\n",
    "group = pd.read_pickle(\"../new_data/data_set/offline_group.pkl\")"
   ]
  },
  {
   "cell_type": "markdown",
   "metadata": {},
   "source": [
    "# Transaction "
   ]
  },
  {
   "cell_type": "code",
   "execution_count": null,
   "metadata": {},
   "outputs": [],
   "source": [
    "buy = transaction.loc[transaction['biz_unit']=='B']\n",
    "buy[['buy_am','buy_ct']] = buy[['buy_am','buy_ct']].astype(float)\n",
    "buy_ct = buy[['clnt_id','buy_ct']].groupby('clnt_id').sum()\n",
    "buy_am = buy[['clnt_id','buy_am']].groupby('clnt_id').sum()\n",
    "tran_freq = buy[['clnt_id','trans_id']]\n",
    "tran_freq = tran_freq.drop_duplicates(['clnt_id','trans_id'],keep='first')\n",
    "tran_freq['tran_freq'] = 1\n",
    "tran_freq = tran_freq[['clnt_id','tran_freq']]\n",
    "tran_freq = tran_freq.groupby('clnt_id').sum()\n",
    "tran_ct = buy[['clnt_id','trans_id','buy_ct']].groupby(['clnt_id','trans_id']).sum()\n",
    "tran_ct = tran_ct.groupby('clnt_id').mean()\n",
    "tran_ct.columns = ['tran_ct']\n",
    "tran_am = buy[['clnt_id','trans_id','buy_am']].groupby(['clnt_id','trans_id']).sum()\n",
    "tran_am = tran_am.groupby('clnt_id').mean()\n",
    "tran_am.columns = ['tran_am']"
   ]
  },
  {
   "cell_type": "code",
   "execution_count": null,
   "metadata": {},
   "outputs": [],
   "source": [
    "clac_var = (clac != 0).astype(int)\n",
    "clac_var = pd.DataFrame(clac_var.sum(axis=1))\n",
    "clac_var.columns = ['clac_var']\n",
    "clac_ct = pd.merge(buy_ct,clac_var,on='clnt_id',how='left')\n",
    "clac_ct['clac_ct'] = clac_ct['buy_ct']/clac_ct['clac_var']\n",
    "clac_ct = pd.DataFrame(clac_ct['clac_ct'])\n",
    "clac_am = pd.merge(buy_am,clac_var,on='clnt_id',how='left')\n",
    "clac_am['clac_am'] = clac_am['buy_am']/clac_am['clac_var']\n",
    "clac_am = pd.DataFrame(clac_am['clac_am'])"
   ]
  },
  {
   "cell_type": "code",
   "execution_count": null,
   "metadata": {},
   "outputs": [],
   "source": [
    "basic = pd.merge(buy_ct,buy_am,on='clnt_id',how='left')\n",
    "basic = pd.merge(basic,tran_freq,on='clnt_id',how='left')\n",
    "basic = pd.merge(basic,tran_ct,on='clnt_id',how='left')\n",
    "basic = pd.merge(basic,tran_am,on='clnt_id',how='left')\n",
    "basic = pd.merge(basic,clac_var,on='clnt_id',how='left')\n",
    "basic = pd.merge(basic,clac_ct,on='clnt_id',how='left')\n",
    "basic = pd.merge(basic,clac_am,on='clnt_id',how='left')\n",
    "basic.to_pickle(\"../new_data/offline/basic.pkl\")"
   ]
  },
  {
   "cell_type": "markdown",
   "metadata": {},
   "source": [
    "# Time "
   ]
  },
  {
   "cell_type": "markdown",
   "metadata": {},
   "source": [
    "## 1) week "
   ]
  },
  {
   "cell_type": "code",
   "execution_count": null,
   "metadata": {},
   "outputs": [],
   "source": [
    "tran_time = transaction.loc[transaction['biz_unit']=='B']\n",
    "tran_time['month'] = np.array([i.month for i in tran_time['date_time']])\n",
    "tran_time['day'] = np.array([i.day for i in tran_time['date_time']])\n",
    "tran_time['time'] = np.array([i.hour for i in tran_time['date_time']])\n",
    "tran_time['weekday'] = np.array([i.weekday() for i in tran_time['date_time']])"
   ]
  },
  {
   "cell_type": "code",
   "execution_count": null,
   "metadata": {},
   "outputs": [],
   "source": [
    "weekday = tran_time[['clnt_id','weekday']]\n",
    "weekday['count'] = 1\n",
    "weekday = pd.pivot_table(weekday, index='clnt_id',columns='weekday',values='count',aggfunc=sum)\n",
    "weekday = weekday.fillna(0)\n",
    "weekday.columns = ['mon','tue','wed','thu','fri','sat','sun']"
   ]
  },
  {
   "cell_type": "code",
   "execution_count": null,
   "metadata": {},
   "outputs": [],
   "source": [
    "week_plot = pd.melt(weekday,var_name='days',value_name='count')\n",
    "sns.boxplot(x='days',y='count',data=week_plot, showfliers=False)\n",
    "plt.title('distribution of transaction by weekdays')\n",
    "plt.show()"
   ]
  },
  {
   "cell_type": "code",
   "execution_count": null,
   "metadata": {},
   "outputs": [],
   "source": [
    "week = weekday[['mon','tue','wed','thu','fri']]\n",
    "week = pd.DataFrame(week.sum(axis=1))\n",
    "sat = pd.DataFrame(weekday['sat'])\n",
    "sun = pd.DataFrame(weekday['sun'])\n",
    "weekday = pd.merge(week,sat,on='clnt_id',how='outer')\n",
    "weekday = pd.merge(weekday,sun,on='clnt_id',how='outer')\n",
    "weekday.columns = ['week','sat','sun']"
   ]
  },
  {
   "cell_type": "code",
   "execution_count": null,
   "metadata": {},
   "outputs": [],
   "source": [
    "weekday['week'] = weekday['week']/5"
   ]
  },
  {
   "cell_type": "code",
   "execution_count": null,
   "metadata": {},
   "outputs": [],
   "source": [
    "week_plot = pd.melt(weekday,var_name='days',value_name='count')\n",
    "sns.boxplot(x='days',y='count',data=week_plot, showfliers=False)\n",
    "plt.title('distribution of transaction by week / weekend')\n",
    "plt.show()"
   ]
  },
  {
   "cell_type": "markdown",
   "metadata": {},
   "source": [
    "## 2) time"
   ]
  },
  {
   "cell_type": "code",
   "execution_count": null,
   "metadata": {},
   "outputs": [],
   "source": [
    "time = tran_time[['clnt_id','time']]\n",
    "time['count'] = 1\n",
    "time = pd.pivot_table(time, index='clnt_id',columns='time',values='count',aggfunc=sum)\n",
    "time = time.fillna(0)"
   ]
  },
  {
   "cell_type": "code",
   "execution_count": null,
   "metadata": {},
   "outputs": [],
   "source": [
    "time_plot = pd.melt(time,var_name='time',value_name='count')\n",
    "sns.boxplot(x='time',y='count',data=time_plot.loc[time_plot['count']!=0], showfliers=False)\n",
    "plt.title('distribution of transaction by time')\n",
    "plt.show()"
   ]
  },
  {
   "cell_type": "code",
   "execution_count": null,
   "metadata": {},
   "outputs": [],
   "source": [
    "tran_time['timezone'] = 0\n",
    "tran_time['timezone'].loc[[i in [0,1,2,3,4,5,6,7,8,9] for i in tran_time['time']]] = 1\n",
    "tran_time['timezone'].loc[[i in [10,11,12,13,14,15,16,17,18,19,20,21,22,23] for i in tran_time['time']]] = 2\n",
    "# tran_time['timezone'].loc[[i in [15,16,17,18,19,20,21] for i in tran_time['time']]] = 3"
   ]
  },
  {
   "cell_type": "code",
   "execution_count": null,
   "metadata": {},
   "outputs": [],
   "source": [
    "time = tran_time[['clnt_id','timezone']]\n",
    "time['count'] = 1\n",
    "time = pd.pivot_table(time, index='clnt_id',columns='timezone',values='count',aggfunc=sum)\n",
    "time = time.fillna(0)\n",
    "time.columns = ['time'+str(i+1) for i in range(2)]"
   ]
  },
  {
   "cell_type": "code",
   "execution_count": null,
   "metadata": {},
   "outputs": [],
   "source": [
    "time['time1'] = time['time1']/10\n",
    "time['time2'] = time['time2']/14\n",
    "# time['time3'] = time['time3']/7"
   ]
  },
  {
   "cell_type": "code",
   "execution_count": null,
   "metadata": {},
   "outputs": [],
   "source": [
    "time_plot = pd.melt(time,var_name='timezone',value_name='count')\n",
    "sns.boxplot(x='timezone',y='count',data=time_plot.loc[time_plot['count']!=0], showfliers=False)\n",
    "plt.title('distribution of transaction by timezone')\n",
    "plt.show()"
   ]
  },
  {
   "cell_type": "code",
   "execution_count": null,
   "metadata": {},
   "outputs": [],
   "source": [
    "time = pd.merge(weekday,time,on='clnt_id',how='outer')\n",
    "time.to_pickle(\"../new_data/offline/time.pkl\")"
   ]
  },
  {
   "cell_type": "markdown",
   "metadata": {},
   "source": [
    "# Group "
   ]
  },
  {
   "cell_type": "code",
   "execution_count": null,
   "metadata": {},
   "outputs": [],
   "source": [
    "off_tran = transaction.loc[transaction['biz_unit']=='B']\n",
    "off_tran['pd_c'] = off_tran['pd_c'].astype(int)\n",
    "group['pd_c'] = group['pd_c'].astype(int)"
   ]
  },
  {
   "cell_type": "code",
   "execution_count": null,
   "metadata": {},
   "outputs": [],
   "source": [
    "off_group = pd.merge(off_tran[['clnt_id','pd_c']],group[['pd_c','group']],on='pd_c',how='left')\n",
    "off_group['count'] = 1\n",
    "off_group = pd.pivot_table(off_group,index='clnt_id',columns='group',values='count',aggfunc=sum)\n",
    "off_group = off_group.fillna(0)"
   ]
  },
  {
   "cell_type": "code",
   "execution_count": null,
   "metadata": {},
   "outputs": [],
   "source": [
    "off_group.to_pickle(\"../new_data/offline/off_group.pkl\")"
   ]
  }
 ],
 "metadata": {
  "kernelspec": {
   "display_name": "Python 3",
   "language": "python",
   "name": "python3"
  },
  "language_info": {
   "codemirror_mode": {
    "name": "ipython",
    "version": 3
   },
   "file_extension": ".py",
   "mimetype": "text/x-python",
   "name": "python",
   "nbconvert_exporter": "python",
   "pygments_lexer": "ipython3",
   "version": "3.7.6"
  }
 },
 "nbformat": 4,
 "nbformat_minor": 2
}
