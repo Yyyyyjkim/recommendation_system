{
 "cells": [
  {
   "cell_type": "code",
   "execution_count": null,
   "metadata": {},
   "outputs": [],
   "source": [
    "import pandas as pd\n",
    "import numpy as np\n",
    "import matplotlib.pyplot as plt\n",
    "import seaborn as sns\n",
    "from datetime import datetime\n",
    "from sklearn.preprocessing import StandardScaler\n",
    "import math"
   ]
  },
  {
   "cell_type": "code",
   "execution_count": null,
   "metadata": {},
   "outputs": [],
   "source": [
    "import warnings\n",
    "warnings.filterwarnings(\"ignore\")"
   ]
  },
  {
   "cell_type": "code",
   "execution_count": null,
   "metadata": {},
   "outputs": [],
   "source": [
    "off_basic = pd.read_pickle(\"../new_data/offline/basic.pkl\")\n",
    "off_time = pd.read_pickle(\"../new_data/offline/time.pkl\")\n",
    "off_group = pd.read_pickle(\"../new_data/offline/off_group.pkl\")"
   ]
  },
  {
   "cell_type": "code",
   "execution_count": null,
   "metadata": {},
   "outputs": [],
   "source": [
    "on_basic = pd.read_pickle(\"../new_data/online/basic.pkl\")\n",
    "on_time = pd.read_pickle(\"../new_data/online/time.pkl\")\n",
    "online = pd.read_pickle(\"../new_data/online/online.pkl\")\n",
    "on_group = pd.read_pickle(\"../new_data/online/ongroup.pkl\")"
   ]
  },
  {
   "cell_type": "code",
   "execution_count": null,
   "metadata": {},
   "outputs": [],
   "source": [
    "def transform_quantile(df,quantile_set):\n",
    "    df_percent = np.percentile(df,quantile_set)\n",
    "    df_quant = list(pd.unique(df_percent))\n",
    "    df_quant.insert(0,-1)\n",
    "    label = range(len(df_quant)-1)\n",
    "    df_rank = pd.cut(df,df_quant,labels=label)\n",
    "    df_rank = df_rank.astype(int)\n",
    "    return(df_rank)\n",
    "quantile_set = [(i+1)*5 for i in range(20)]"
   ]
  },
  {
   "cell_type": "code",
   "execution_count": null,
   "metadata": {},
   "outputs": [],
   "source": [
    "off_id = off_basic.copy(deep=True)\n",
    "off_id['count'] = 1\n",
    "off_id = pd.DataFrame(off_id['count'])"
   ]
  },
  {
   "cell_type": "code",
   "execution_count": null,
   "metadata": {},
   "outputs": [],
   "source": [
    "on_id = on_basic.copy(deep=True)\n",
    "on_id['count'] = 1\n",
    "on_id = pd.DataFrame(on_id['count'])"
   ]
  },
  {
   "cell_type": "markdown",
   "metadata": {},
   "source": [
    "# Basic "
   ]
  },
  {
   "cell_type": "code",
   "execution_count": null,
   "metadata": {},
   "outputs": [],
   "source": [
    "online_basic = pd.merge(on_basic,off_id,on='clnt_id',how='outer')\n",
    "online_basic = online_basic.fillna(0)\n",
    "online_basic = online_basic.drop('count',axis=1)"
   ]
  },
  {
   "cell_type": "code",
   "execution_count": null,
   "metadata": {},
   "outputs": [],
   "source": [
    "offline_basic = pd.merge(off_basic,on_id,on='clnt_id',how='outer')\n",
    "offline_basic = offline_basic.fillna(0)\n",
    "offline_basic = offline_basic.drop('count',axis=1)"
   ]
  },
  {
   "cell_type": "code",
   "execution_count": null,
   "metadata": {},
   "outputs": [],
   "source": [
    "online_basic = online_basic.apply(lambda x: transform_quantile(x,quantile_set))\n",
    "offline_basic = offline_basic.apply(lambda x: transform_quantile(x,quantile_set))"
   ]
  },
  {
   "cell_type": "code",
   "execution_count": null,
   "metadata": {},
   "outputs": [],
   "source": [
    "online_basic.to_pickle(\"../new_data/variables/online_basic.pkl\")\n",
    "offline_basic.to_pickle(\"../new_data/variables/offline_basic.pkl\")"
   ]
  },
  {
   "cell_type": "code",
   "execution_count": null,
   "metadata": {},
   "outputs": [],
   "source": [
    "plt.figure(figsize=(20,10))\n",
    "plt.subplot(2,4,1)\n",
    "plt.title('buy_ct')\n",
    "plt.plot(sorted(on_basic['buy_ct']))\n",
    "plt.subplot(2,4,2)\n",
    "plt.title('buy_am')\n",
    "plt.plot(sorted(on_basic['buy_am']))\n",
    "plt.subplot(2,4,3)\n",
    "plt.title('tran_freq')\n",
    "plt.plot(sorted(on_basic['tran_freq']))\n",
    "plt.subplot(2,4,4)\n",
    "plt.title('tran_ct')\n",
    "plt.plot(sorted(on_basic['tran_ct']))\n",
    "plt.subplot(2,4,5)\n",
    "plt.title('tran_am')\n",
    "plt.plot(sorted(on_basic['tran_am']))\n",
    "plt.subplot(2,4,6)\n",
    "plt.title('clac_var')\n",
    "plt.plot(sorted(on_basic['clac_var']))\n",
    "plt.subplot(2,4,7)\n",
    "plt.title('clac_ct')\n",
    "plt.plot(sorted(on_basic['clac_ct']))\n",
    "plt.subplot(2,4,8)\n",
    "plt.title('clac_am')\n",
    "plt.plot(sorted(on_basic['clac_am']))\n",
    "plt.show()"
   ]
  },
  {
   "cell_type": "code",
   "execution_count": null,
   "metadata": {
    "scrolled": true
   },
   "outputs": [],
   "source": [
    "plt.figure(figsize=(20,10))\n",
    "plt.subplot(2,4,1)\n",
    "plt.title('buy_ct')\n",
    "plt.plot(sorted(online_basic['buy_ct']))\n",
    "plt.subplot(2,4,2)\n",
    "plt.title('buy_am')\n",
    "plt.plot(sorted(online_basic['buy_am']))\n",
    "plt.subplot(2,4,3)\n",
    "plt.title('tran_freq')\n",
    "plt.plot(sorted(online_basic['tran_freq']))\n",
    "plt.subplot(2,4,4)\n",
    "plt.title('tran_ct')\n",
    "plt.plot(sorted(online_basic['tran_ct']))\n",
    "plt.subplot(2,4,5)\n",
    "plt.title('tran_am')\n",
    "plt.plot(sorted(online_basic['tran_am']))\n",
    "plt.subplot(2,4,6)\n",
    "plt.title('clac_var')\n",
    "plt.plot(sorted(online_basic['clac_var']))\n",
    "plt.subplot(2,4,7)\n",
    "plt.title('clac_ct')\n",
    "plt.plot(sorted(online_basic['clac_ct']))\n",
    "plt.subplot(2,4,8)\n",
    "plt.title('clac_am')\n",
    "plt.plot(sorted(online_basic['clac_am']))\n",
    "plt.show()"
   ]
  },
  {
   "cell_type": "markdown",
   "metadata": {},
   "source": [
    "# time "
   ]
  },
  {
   "cell_type": "code",
   "execution_count": null,
   "metadata": {},
   "outputs": [],
   "source": [
    "online_time = pd.merge(on_time,off_id,on='clnt_id',how='outer')\n",
    "online_time = online_time.fillna(0)\n",
    "online_time = online_time.drop('count',axis=1)"
   ]
  },
  {
   "cell_type": "code",
   "execution_count": null,
   "metadata": {},
   "outputs": [],
   "source": [
    "offline_time = pd.merge(off_time,on_id,on='clnt_id',how='outer')\n",
    "offline_time = offline_time.fillna(0)\n",
    "offline_time = offline_time.drop('count',axis=1)"
   ]
  },
  {
   "cell_type": "code",
   "execution_count": null,
   "metadata": {},
   "outputs": [],
   "source": [
    "online_time = online_time.apply(lambda x: transform_quantile(x,quantile_set))\n",
    "offline_time = offline_time.apply(lambda x: transform_quantile(x,quantile_set))"
   ]
  },
  {
   "cell_type": "code",
   "execution_count": null,
   "metadata": {},
   "outputs": [],
   "source": [
    "online_time.to_pickle(\"../new_data/variables/online_time.pkl\")\n",
    "offline_time.to_pickle(\"../new_data/variables/offline_time.pkl\")"
   ]
  },
  {
   "cell_type": "markdown",
   "metadata": {},
   "source": [
    "# group "
   ]
  },
  {
   "cell_type": "code",
   "execution_count": null,
   "metadata": {},
   "outputs": [],
   "source": [
    "online_group = pd.merge(on_group,off_id,on='clnt_id',how='outer')\n",
    "online_group = online_group.fillna(0)\n",
    "online_group = online_group.drop('count',axis=1)"
   ]
  },
  {
   "cell_type": "code",
   "execution_count": null,
   "metadata": {},
   "outputs": [],
   "source": [
    "offline_group = pd.merge(off_group,on_id,on='clnt_id',how='outer')\n",
    "offline_group = offline_group.fillna(0)\n",
    "offline_group = offline_group.drop('count',axis=1)"
   ]
  },
  {
   "cell_type": "code",
   "execution_count": null,
   "metadata": {},
   "outputs": [],
   "source": [
    "online_group = online_group.apply(lambda x: transform_quantile(x,quantile_set))\n",
    "offline_group = offline_group.apply(lambda x: transform_quantile(x,quantile_set))"
   ]
  },
  {
   "cell_type": "code",
   "execution_count": null,
   "metadata": {},
   "outputs": [],
   "source": [
    "online_group.to_pickle(\"../new_data/variables/online_group.pkl\")\n",
    "offline_group.to_pickle(\"../new_data/variables/offline_group.pkl\")"
   ]
  },
  {
   "cell_type": "markdown",
   "metadata": {},
   "source": [
    "# online "
   ]
  },
  {
   "cell_type": "code",
   "execution_count": null,
   "metadata": {},
   "outputs": [],
   "source": [
    "online = online.apply(lambda x: transform_quantile(x,quantile_set))"
   ]
  },
  {
   "cell_type": "code",
   "execution_count": null,
   "metadata": {},
   "outputs": [],
   "source": [
    "online.to_pickle(\"../new_data/variables/online.pkl\")"
   ]
  }
 ],
 "metadata": {
  "kernelspec": {
   "display_name": "Python 3",
   "language": "python",
   "name": "python3"
  },
  "language_info": {
   "codemirror_mode": {
    "name": "ipython",
    "version": 3
   },
   "file_extension": ".py",
   "mimetype": "text/x-python",
   "name": "python",
   "nbconvert_exporter": "python",
   "pygments_lexer": "ipython3",
   "version": "3.7.6"
  }
 },
 "nbformat": 4,
 "nbformat_minor": 2
}
